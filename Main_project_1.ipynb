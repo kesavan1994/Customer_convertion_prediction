{
  "nbformat": 4,
  "nbformat_minor": 0,
  "metadata": {
    "colab": {
      "provenance": [],
      "authorship_tag": "ABX9TyPmcjmlSdp+0LCRxZcBcpwx",
      "include_colab_link": true
    },
    "kernelspec": {
      "name": "python3",
      "display_name": "Python 3"
    },
    "language_info": {
      "name": "python"
    }
  },
  "cells": [
    {
      "cell_type": "markdown",
      "metadata": {
        "id": "view-in-github",
        "colab_type": "text"
      },
      "source": [
        "<a href=\"https://colab.research.google.com/github/kesavan1994/Customer_convertion_prediction/blob/main/Main_project_1.ipynb\" target=\"_parent\"><img src=\"https://colab.research.google.com/assets/colab-badge.svg\" alt=\"Open In Colab\"/></a>"
      ]
    },
    {
      "cell_type": "code",
      "execution_count": 466,
      "metadata": {
        "id": "mmgqwR0ODAYL"
      },
      "outputs": [],
      "source": [
        "#importing data set from github\n",
        "import pandas as pd\n",
        "\n",
        "df=pd.read_csv(\"https://raw.githubusercontent.com/kesavan1994/ML-Dataset/main/Customer_convertion_Pred_train.csv\")\n",
        "# df2=pd.read_csv(\"/content/Customer_convertion_Pred_train.csv\")"
      ]
    },
    {
      "cell_type": "code",
      "source": [
        "import os\n",
        "os.getcwd()\n"
      ],
      "metadata": {
        "colab": {
          "base_uri": "https://localhost:8080/",
          "height": 36
        },
        "id": "clXBQZlRWurP",
        "outputId": "b42aaafb-6fe3-4222-f22b-00b57b5f7938"
      },
      "execution_count": 467,
      "outputs": [
        {
          "output_type": "execute_result",
          "data": {
            "text/plain": [
              "'/content'"
            ],
            "application/vnd.google.colaboratory.intrinsic+json": {
              "type": "string"
            }
          },
          "metadata": {},
          "execution_count": 467
        }
      ]
    },
    {
      "cell_type": "code",
      "source": [
        "df.iloc[0:5,:]\n"
      ],
      "metadata": {
        "colab": {
          "base_uri": "https://localhost:8080/",
          "height": 206
        },
        "id": "GCYWBx1fDz7u",
        "outputId": "5d0cfcd3-a691-47e7-caac-0fb853b9da51"
      },
      "execution_count": 468,
      "outputs": [
        {
          "output_type": "execute_result",
          "data": {
            "text/plain": [
              "   age           job  marital education_qual call_type  day  mon  dur  \\\n",
              "0   58    management  married       tertiary   unknown    5  may  261   \n",
              "1   44    technician   single      secondary   unknown    5  may  151   \n",
              "2   33  entrepreneur  married      secondary   unknown    5  may   76   \n",
              "3   47   blue-collar  married        unknown   unknown    5  may   92   \n",
              "4   33       unknown   single        unknown   unknown    5  may  198   \n",
              "\n",
              "   num_calls prev_outcome   y  \n",
              "0          1      unknown  no  \n",
              "1          1      unknown  no  \n",
              "2          1      unknown  no  \n",
              "3          1      unknown  no  \n",
              "4          1      unknown  no  "
            ],
            "text/html": [
              "\n",
              "  <div id=\"df-8226db00-3d62-4fa4-9abd-1baee92d163c\">\n",
              "    <div class=\"colab-df-container\">\n",
              "      <div>\n",
              "<style scoped>\n",
              "    .dataframe tbody tr th:only-of-type {\n",
              "        vertical-align: middle;\n",
              "    }\n",
              "\n",
              "    .dataframe tbody tr th {\n",
              "        vertical-align: top;\n",
              "    }\n",
              "\n",
              "    .dataframe thead th {\n",
              "        text-align: right;\n",
              "    }\n",
              "</style>\n",
              "<table border=\"1\" class=\"dataframe\">\n",
              "  <thead>\n",
              "    <tr style=\"text-align: right;\">\n",
              "      <th></th>\n",
              "      <th>age</th>\n",
              "      <th>job</th>\n",
              "      <th>marital</th>\n",
              "      <th>education_qual</th>\n",
              "      <th>call_type</th>\n",
              "      <th>day</th>\n",
              "      <th>mon</th>\n",
              "      <th>dur</th>\n",
              "      <th>num_calls</th>\n",
              "      <th>prev_outcome</th>\n",
              "      <th>y</th>\n",
              "    </tr>\n",
              "  </thead>\n",
              "  <tbody>\n",
              "    <tr>\n",
              "      <th>0</th>\n",
              "      <td>58</td>\n",
              "      <td>management</td>\n",
              "      <td>married</td>\n",
              "      <td>tertiary</td>\n",
              "      <td>unknown</td>\n",
              "      <td>5</td>\n",
              "      <td>may</td>\n",
              "      <td>261</td>\n",
              "      <td>1</td>\n",
              "      <td>unknown</td>\n",
              "      <td>no</td>\n",
              "    </tr>\n",
              "    <tr>\n",
              "      <th>1</th>\n",
              "      <td>44</td>\n",
              "      <td>technician</td>\n",
              "      <td>single</td>\n",
              "      <td>secondary</td>\n",
              "      <td>unknown</td>\n",
              "      <td>5</td>\n",
              "      <td>may</td>\n",
              "      <td>151</td>\n",
              "      <td>1</td>\n",
              "      <td>unknown</td>\n",
              "      <td>no</td>\n",
              "    </tr>\n",
              "    <tr>\n",
              "      <th>2</th>\n",
              "      <td>33</td>\n",
              "      <td>entrepreneur</td>\n",
              "      <td>married</td>\n",
              "      <td>secondary</td>\n",
              "      <td>unknown</td>\n",
              "      <td>5</td>\n",
              "      <td>may</td>\n",
              "      <td>76</td>\n",
              "      <td>1</td>\n",
              "      <td>unknown</td>\n",
              "      <td>no</td>\n",
              "    </tr>\n",
              "    <tr>\n",
              "      <th>3</th>\n",
              "      <td>47</td>\n",
              "      <td>blue-collar</td>\n",
              "      <td>married</td>\n",
              "      <td>unknown</td>\n",
              "      <td>unknown</td>\n",
              "      <td>5</td>\n",
              "      <td>may</td>\n",
              "      <td>92</td>\n",
              "      <td>1</td>\n",
              "      <td>unknown</td>\n",
              "      <td>no</td>\n",
              "    </tr>\n",
              "    <tr>\n",
              "      <th>4</th>\n",
              "      <td>33</td>\n",
              "      <td>unknown</td>\n",
              "      <td>single</td>\n",
              "      <td>unknown</td>\n",
              "      <td>unknown</td>\n",
              "      <td>5</td>\n",
              "      <td>may</td>\n",
              "      <td>198</td>\n",
              "      <td>1</td>\n",
              "      <td>unknown</td>\n",
              "      <td>no</td>\n",
              "    </tr>\n",
              "  </tbody>\n",
              "</table>\n",
              "</div>\n",
              "      <button class=\"colab-df-convert\" onclick=\"convertToInteractive('df-8226db00-3d62-4fa4-9abd-1baee92d163c')\"\n",
              "              title=\"Convert this dataframe to an interactive table.\"\n",
              "              style=\"display:none;\">\n",
              "        \n",
              "  <svg xmlns=\"http://www.w3.org/2000/svg\" height=\"24px\"viewBox=\"0 0 24 24\"\n",
              "       width=\"24px\">\n",
              "    <path d=\"M0 0h24v24H0V0z\" fill=\"none\"/>\n",
              "    <path d=\"M18.56 5.44l.94 2.06.94-2.06 2.06-.94-2.06-.94-.94-2.06-.94 2.06-2.06.94zm-11 1L8.5 8.5l.94-2.06 2.06-.94-2.06-.94L8.5 2.5l-.94 2.06-2.06.94zm10 10l.94 2.06.94-2.06 2.06-.94-2.06-.94-.94-2.06-.94 2.06-2.06.94z\"/><path d=\"M17.41 7.96l-1.37-1.37c-.4-.4-.92-.59-1.43-.59-.52 0-1.04.2-1.43.59L10.3 9.45l-7.72 7.72c-.78.78-.78 2.05 0 2.83L4 21.41c.39.39.9.59 1.41.59.51 0 1.02-.2 1.41-.59l7.78-7.78 2.81-2.81c.8-.78.8-2.07 0-2.86zM5.41 20L4 18.59l7.72-7.72 1.47 1.35L5.41 20z\"/>\n",
              "  </svg>\n",
              "      </button>\n",
              "      \n",
              "  <style>\n",
              "    .colab-df-container {\n",
              "      display:flex;\n",
              "      flex-wrap:wrap;\n",
              "      gap: 12px;\n",
              "    }\n",
              "\n",
              "    .colab-df-convert {\n",
              "      background-color: #E8F0FE;\n",
              "      border: none;\n",
              "      border-radius: 50%;\n",
              "      cursor: pointer;\n",
              "      display: none;\n",
              "      fill: #1967D2;\n",
              "      height: 32px;\n",
              "      padding: 0 0 0 0;\n",
              "      width: 32px;\n",
              "    }\n",
              "\n",
              "    .colab-df-convert:hover {\n",
              "      background-color: #E2EBFA;\n",
              "      box-shadow: 0px 1px 2px rgba(60, 64, 67, 0.3), 0px 1px 3px 1px rgba(60, 64, 67, 0.15);\n",
              "      fill: #174EA6;\n",
              "    }\n",
              "\n",
              "    [theme=dark] .colab-df-convert {\n",
              "      background-color: #3B4455;\n",
              "      fill: #D2E3FC;\n",
              "    }\n",
              "\n",
              "    [theme=dark] .colab-df-convert:hover {\n",
              "      background-color: #434B5C;\n",
              "      box-shadow: 0px 1px 3px 1px rgba(0, 0, 0, 0.15);\n",
              "      filter: drop-shadow(0px 1px 2px rgba(0, 0, 0, 0.3));\n",
              "      fill: #FFFFFF;\n",
              "    }\n",
              "  </style>\n",
              "\n",
              "      <script>\n",
              "        const buttonEl =\n",
              "          document.querySelector('#df-8226db00-3d62-4fa4-9abd-1baee92d163c button.colab-df-convert');\n",
              "        buttonEl.style.display =\n",
              "          google.colab.kernel.accessAllowed ? 'block' : 'none';\n",
              "\n",
              "        async function convertToInteractive(key) {\n",
              "          const element = document.querySelector('#df-8226db00-3d62-4fa4-9abd-1baee92d163c');\n",
              "          const dataTable =\n",
              "            await google.colab.kernel.invokeFunction('convertToInteractive',\n",
              "                                                     [key], {});\n",
              "          if (!dataTable) return;\n",
              "\n",
              "          const docLinkHtml = 'Like what you see? Visit the ' +\n",
              "            '<a target=\"_blank\" href=https://colab.research.google.com/notebooks/data_table.ipynb>data table notebook</a>'\n",
              "            + ' to learn more about interactive tables.';\n",
              "          element.innerHTML = '';\n",
              "          dataTable['output_type'] = 'display_data';\n",
              "          await google.colab.output.renderOutput(dataTable, element);\n",
              "          const docLink = document.createElement('div');\n",
              "          docLink.innerHTML = docLinkHtml;\n",
              "          element.appendChild(docLink);\n",
              "        }\n",
              "      </script>\n",
              "    </div>\n",
              "  </div>\n",
              "  "
            ]
          },
          "metadata": {},
          "execution_count": 468
        }
      ]
    },
    {
      "cell_type": "code",
      "source": [
        "df.shape"
      ],
      "metadata": {
        "colab": {
          "base_uri": "https://localhost:8080/"
        },
        "id": "fwdF8HXEvH3B",
        "outputId": "ca332da2-92b7-4bb4-beae-43b3871a6ebe"
      },
      "execution_count": 469,
      "outputs": [
        {
          "output_type": "execute_result",
          "data": {
            "text/plain": [
              "(45211, 11)"
            ]
          },
          "metadata": {},
          "execution_count": 469
        }
      ]
    },
    {
      "cell_type": "code",
      "source": [
        "df.info()"
      ],
      "metadata": {
        "colab": {
          "base_uri": "https://localhost:8080/"
        },
        "id": "sHEROHzqD14h",
        "outputId": "cec0ec66-fe07-4398-b2bb-a7569177fe6b"
      },
      "execution_count": 470,
      "outputs": [
        {
          "output_type": "stream",
          "name": "stdout",
          "text": [
            "<class 'pandas.core.frame.DataFrame'>\n",
            "RangeIndex: 45211 entries, 0 to 45210\n",
            "Data columns (total 11 columns):\n",
            " #   Column          Non-Null Count  Dtype \n",
            "---  ------          --------------  ----- \n",
            " 0   age             45211 non-null  int64 \n",
            " 1   job             45211 non-null  object\n",
            " 2   marital         45211 non-null  object\n",
            " 3   education_qual  45211 non-null  object\n",
            " 4   call_type       45211 non-null  object\n",
            " 5   day             45211 non-null  int64 \n",
            " 6   mon             45211 non-null  object\n",
            " 7   dur             45211 non-null  int64 \n",
            " 8   num_calls       45211 non-null  int64 \n",
            " 9   prev_outcome    45211 non-null  object\n",
            " 10  y               45211 non-null  object\n",
            "dtypes: int64(4), object(7)\n",
            "memory usage: 3.8+ MB\n"
          ]
        }
      ]
    },
    {
      "cell_type": "code",
      "source": [
        "df.isna().sum()"
      ],
      "metadata": {
        "colab": {
          "base_uri": "https://localhost:8080/"
        },
        "id": "cMz7PuYMJNGe",
        "outputId": "a8b90ec9-126e-4838-dd21-cad9559fdda5"
      },
      "execution_count": 471,
      "outputs": [
        {
          "output_type": "execute_result",
          "data": {
            "text/plain": [
              "age               0\n",
              "job               0\n",
              "marital           0\n",
              "education_qual    0\n",
              "call_type         0\n",
              "day               0\n",
              "mon               0\n",
              "dur               0\n",
              "num_calls         0\n",
              "prev_outcome      0\n",
              "y                 0\n",
              "dtype: int64"
            ]
          },
          "metadata": {},
          "execution_count": 471
        }
      ]
    },
    {
      "cell_type": "code",
      "source": [
        "df.isnull().sum()"
      ],
      "metadata": {
        "colab": {
          "base_uri": "https://localhost:8080/"
        },
        "id": "Kd1C6cfyQhia",
        "outputId": "9a3c8d7a-4e8d-4d6e-8a95-c02e69738fbb"
      },
      "execution_count": 472,
      "outputs": [
        {
          "output_type": "execute_result",
          "data": {
            "text/plain": [
              "age               0\n",
              "job               0\n",
              "marital           0\n",
              "education_qual    0\n",
              "call_type         0\n",
              "day               0\n",
              "mon               0\n",
              "dur               0\n",
              "num_calls         0\n",
              "prev_outcome      0\n",
              "y                 0\n",
              "dtype: int64"
            ]
          },
          "metadata": {},
          "execution_count": 472
        }
      ]
    },
    {
      "cell_type": "code",
      "source": [
        "df['mon'].value_counts()"
      ],
      "metadata": {
        "colab": {
          "base_uri": "https://localhost:8080/"
        },
        "id": "nChrI6Y1-vrV",
        "outputId": "b7615b3d-bcc0-4280-a015-d2f6b85e9a78"
      },
      "execution_count": 473,
      "outputs": [
        {
          "output_type": "execute_result",
          "data": {
            "text/plain": [
              "may    13766\n",
              "jul     6895\n",
              "aug     6247\n",
              "jun     5341\n",
              "nov     3970\n",
              "apr     2932\n",
              "feb     2649\n",
              "jan     1403\n",
              "oct      738\n",
              "sep      579\n",
              "mar      477\n",
              "dec      214\n",
              "Name: mon, dtype: int64"
            ]
          },
          "metadata": {},
          "execution_count": 473
        }
      ]
    },
    {
      "cell_type": "code",
      "source": [
        "df.columns"
      ],
      "metadata": {
        "colab": {
          "base_uri": "https://localhost:8080/"
        },
        "id": "UXUe8SkxsPU0",
        "outputId": "e658302f-b12f-4a8f-de53-012e5ada971a"
      },
      "execution_count": 474,
      "outputs": [
        {
          "output_type": "execute_result",
          "data": {
            "text/plain": [
              "Index(['age', 'job', 'marital', 'education_qual', 'call_type', 'day', 'mon',\n",
              "       'dur', 'num_calls', 'prev_outcome', 'y'],\n",
              "      dtype='object')"
            ]
          },
          "metadata": {},
          "execution_count": 474
        }
      ]
    },
    {
      "cell_type": "markdown",
      "source": [
        "**Data Cleaning**"
      ],
      "metadata": {
        "id": "lFK5Wfoayp-f"
      }
    },
    {
      "cell_type": "code",
      "source": [
        "\n",
        "df['prev_outcome'].value_counts()"
      ],
      "metadata": {
        "colab": {
          "base_uri": "https://localhost:8080/"
        },
        "id": "3V7o36yihPvz",
        "outputId": "821d136f-ce99-4567-da10-f078f4f9bbb3"
      },
      "execution_count": 475,
      "outputs": [
        {
          "output_type": "execute_result",
          "data": {
            "text/plain": [
              "unknown    36959\n",
              "failure     4901\n",
              "other       1840\n",
              "success     1511\n",
              "Name: prev_outcome, dtype: int64"
            ]
          },
          "metadata": {},
          "execution_count": 475
        }
      ]
    },
    {
      "cell_type": "code",
      "source": [
        "df.shape[0]"
      ],
      "metadata": {
        "id": "lgRG9fsRNjQg",
        "colab": {
          "base_uri": "https://localhost:8080/"
        },
        "outputId": "6669fe69-f8c5-495e-829f-fb1b443be8f2"
      },
      "execution_count": 476,
      "outputs": [
        {
          "output_type": "execute_result",
          "data": {
            "text/plain": [
              "45211"
            ]
          },
          "metadata": {},
          "execution_count": 476
        }
      ]
    },
    {
      "cell_type": "code",
      "source": [
        "df['education_qual'].nunique()"
      ],
      "metadata": {
        "colab": {
          "base_uri": "https://localhost:8080/"
        },
        "id": "wfFzsN3fNtF9",
        "outputId": "04722755-d1e7-41a1-c59e-680da4032f15"
      },
      "execution_count": 477,
      "outputs": [
        {
          "output_type": "execute_result",
          "data": {
            "text/plain": [
              "4"
            ]
          },
          "metadata": {},
          "execution_count": 477
        }
      ]
    },
    {
      "cell_type": "code",
      "source": [
        "df['education_qual'].value_counts()"
      ],
      "metadata": {
        "colab": {
          "base_uri": "https://localhost:8080/"
        },
        "id": "QPom5q4Qoa1v",
        "outputId": "a8c72909-2b99-4001-d66a-2d14a096eda9"
      },
      "execution_count": 478,
      "outputs": [
        {
          "output_type": "execute_result",
          "data": {
            "text/plain": [
              "secondary    23202\n",
              "tertiary     13301\n",
              "primary       6851\n",
              "unknown       1857\n",
              "Name: education_qual, dtype: int64"
            ]
          },
          "metadata": {},
          "execution_count": 478
        }
      ]
    },
    {
      "cell_type": "code",
      "source": [],
      "metadata": {
        "id": "N-ZekaAFfPOX"
      },
      "execution_count": null,
      "outputs": []
    },
    {
      "cell_type": "code",
      "source": [
        "df.dtypes"
      ],
      "metadata": {
        "id": "XQ4PZXl8RB42",
        "colab": {
          "base_uri": "https://localhost:8080/"
        },
        "outputId": "8660077a-fa78-443c-9e58-5df82aaba392"
      },
      "execution_count": 479,
      "outputs": [
        {
          "output_type": "execute_result",
          "data": {
            "text/plain": [
              "age                int64\n",
              "job               object\n",
              "marital           object\n",
              "education_qual    object\n",
              "call_type         object\n",
              "day                int64\n",
              "mon               object\n",
              "dur                int64\n",
              "num_calls          int64\n",
              "prev_outcome      object\n",
              "y                 object\n",
              "dtype: object"
            ]
          },
          "metadata": {},
          "execution_count": 479
        }
      ]
    },
    {
      "cell_type": "code",
      "source": [
        "df['call_type'].value_counts()"
      ],
      "metadata": {
        "colab": {
          "base_uri": "https://localhost:8080/"
        },
        "id": "mJZX8h75XRzP",
        "outputId": "5e517129-2c6b-4b8e-8d20-3a38278bf91f"
      },
      "execution_count": 480,
      "outputs": [
        {
          "output_type": "execute_result",
          "data": {
            "text/plain": [
              "cellular     29285\n",
              "unknown      13020\n",
              "telephone     2906\n",
              "Name: call_type, dtype: int64"
            ]
          },
          "metadata": {},
          "execution_count": 480
        }
      ]
    },
    {
      "cell_type": "code",
      "source": [
        "df['marital'].value_counts()"
      ],
      "metadata": {
        "colab": {
          "base_uri": "https://localhost:8080/"
        },
        "id": "eXvc5_bsXfZ1",
        "outputId": "0e533e4c-3196-412c-ad2c-9f280a355f70"
      },
      "execution_count": 481,
      "outputs": [
        {
          "output_type": "execute_result",
          "data": {
            "text/plain": [
              "married     27214\n",
              "single      12790\n",
              "divorced     5207\n",
              "Name: marital, dtype: int64"
            ]
          },
          "metadata": {},
          "execution_count": 481
        }
      ]
    },
    {
      "cell_type": "code",
      "source": [
        "df.describe()"
      ],
      "metadata": {
        "colab": {
          "base_uri": "https://localhost:8080/",
          "height": 300
        },
        "id": "JfiHvW_-22v-",
        "outputId": "b0d813a6-943b-4cd7-ea81-9d4f708f7d5a"
      },
      "execution_count": 482,
      "outputs": [
        {
          "output_type": "execute_result",
          "data": {
            "text/plain": [
              "                age           day           dur     num_calls\n",
              "count  45211.000000  45211.000000  45211.000000  45211.000000\n",
              "mean      40.936210     15.806419    258.163080      2.763841\n",
              "std       10.618762      8.322476    257.527812      3.098021\n",
              "min       18.000000      1.000000      0.000000      1.000000\n",
              "25%       33.000000      8.000000    103.000000      1.000000\n",
              "50%       39.000000     16.000000    180.000000      2.000000\n",
              "75%       48.000000     21.000000    319.000000      3.000000\n",
              "max       95.000000     31.000000   4918.000000     63.000000"
            ],
            "text/html": [
              "\n",
              "  <div id=\"df-9fa2e009-fd89-4aad-8def-8147be333632\">\n",
              "    <div class=\"colab-df-container\">\n",
              "      <div>\n",
              "<style scoped>\n",
              "    .dataframe tbody tr th:only-of-type {\n",
              "        vertical-align: middle;\n",
              "    }\n",
              "\n",
              "    .dataframe tbody tr th {\n",
              "        vertical-align: top;\n",
              "    }\n",
              "\n",
              "    .dataframe thead th {\n",
              "        text-align: right;\n",
              "    }\n",
              "</style>\n",
              "<table border=\"1\" class=\"dataframe\">\n",
              "  <thead>\n",
              "    <tr style=\"text-align: right;\">\n",
              "      <th></th>\n",
              "      <th>age</th>\n",
              "      <th>day</th>\n",
              "      <th>dur</th>\n",
              "      <th>num_calls</th>\n",
              "    </tr>\n",
              "  </thead>\n",
              "  <tbody>\n",
              "    <tr>\n",
              "      <th>count</th>\n",
              "      <td>45211.000000</td>\n",
              "      <td>45211.000000</td>\n",
              "      <td>45211.000000</td>\n",
              "      <td>45211.000000</td>\n",
              "    </tr>\n",
              "    <tr>\n",
              "      <th>mean</th>\n",
              "      <td>40.936210</td>\n",
              "      <td>15.806419</td>\n",
              "      <td>258.163080</td>\n",
              "      <td>2.763841</td>\n",
              "    </tr>\n",
              "    <tr>\n",
              "      <th>std</th>\n",
              "      <td>10.618762</td>\n",
              "      <td>8.322476</td>\n",
              "      <td>257.527812</td>\n",
              "      <td>3.098021</td>\n",
              "    </tr>\n",
              "    <tr>\n",
              "      <th>min</th>\n",
              "      <td>18.000000</td>\n",
              "      <td>1.000000</td>\n",
              "      <td>0.000000</td>\n",
              "      <td>1.000000</td>\n",
              "    </tr>\n",
              "    <tr>\n",
              "      <th>25%</th>\n",
              "      <td>33.000000</td>\n",
              "      <td>8.000000</td>\n",
              "      <td>103.000000</td>\n",
              "      <td>1.000000</td>\n",
              "    </tr>\n",
              "    <tr>\n",
              "      <th>50%</th>\n",
              "      <td>39.000000</td>\n",
              "      <td>16.000000</td>\n",
              "      <td>180.000000</td>\n",
              "      <td>2.000000</td>\n",
              "    </tr>\n",
              "    <tr>\n",
              "      <th>75%</th>\n",
              "      <td>48.000000</td>\n",
              "      <td>21.000000</td>\n",
              "      <td>319.000000</td>\n",
              "      <td>3.000000</td>\n",
              "    </tr>\n",
              "    <tr>\n",
              "      <th>max</th>\n",
              "      <td>95.000000</td>\n",
              "      <td>31.000000</td>\n",
              "      <td>4918.000000</td>\n",
              "      <td>63.000000</td>\n",
              "    </tr>\n",
              "  </tbody>\n",
              "</table>\n",
              "</div>\n",
              "      <button class=\"colab-df-convert\" onclick=\"convertToInteractive('df-9fa2e009-fd89-4aad-8def-8147be333632')\"\n",
              "              title=\"Convert this dataframe to an interactive table.\"\n",
              "              style=\"display:none;\">\n",
              "        \n",
              "  <svg xmlns=\"http://www.w3.org/2000/svg\" height=\"24px\"viewBox=\"0 0 24 24\"\n",
              "       width=\"24px\">\n",
              "    <path d=\"M0 0h24v24H0V0z\" fill=\"none\"/>\n",
              "    <path d=\"M18.56 5.44l.94 2.06.94-2.06 2.06-.94-2.06-.94-.94-2.06-.94 2.06-2.06.94zm-11 1L8.5 8.5l.94-2.06 2.06-.94-2.06-.94L8.5 2.5l-.94 2.06-2.06.94zm10 10l.94 2.06.94-2.06 2.06-.94-2.06-.94-.94-2.06-.94 2.06-2.06.94z\"/><path d=\"M17.41 7.96l-1.37-1.37c-.4-.4-.92-.59-1.43-.59-.52 0-1.04.2-1.43.59L10.3 9.45l-7.72 7.72c-.78.78-.78 2.05 0 2.83L4 21.41c.39.39.9.59 1.41.59.51 0 1.02-.2 1.41-.59l7.78-7.78 2.81-2.81c.8-.78.8-2.07 0-2.86zM5.41 20L4 18.59l7.72-7.72 1.47 1.35L5.41 20z\"/>\n",
              "  </svg>\n",
              "      </button>\n",
              "      \n",
              "  <style>\n",
              "    .colab-df-container {\n",
              "      display:flex;\n",
              "      flex-wrap:wrap;\n",
              "      gap: 12px;\n",
              "    }\n",
              "\n",
              "    .colab-df-convert {\n",
              "      background-color: #E8F0FE;\n",
              "      border: none;\n",
              "      border-radius: 50%;\n",
              "      cursor: pointer;\n",
              "      display: none;\n",
              "      fill: #1967D2;\n",
              "      height: 32px;\n",
              "      padding: 0 0 0 0;\n",
              "      width: 32px;\n",
              "    }\n",
              "\n",
              "    .colab-df-convert:hover {\n",
              "      background-color: #E2EBFA;\n",
              "      box-shadow: 0px 1px 2px rgba(60, 64, 67, 0.3), 0px 1px 3px 1px rgba(60, 64, 67, 0.15);\n",
              "      fill: #174EA6;\n",
              "    }\n",
              "\n",
              "    [theme=dark] .colab-df-convert {\n",
              "      background-color: #3B4455;\n",
              "      fill: #D2E3FC;\n",
              "    }\n",
              "\n",
              "    [theme=dark] .colab-df-convert:hover {\n",
              "      background-color: #434B5C;\n",
              "      box-shadow: 0px 1px 3px 1px rgba(0, 0, 0, 0.15);\n",
              "      filter: drop-shadow(0px 1px 2px rgba(0, 0, 0, 0.3));\n",
              "      fill: #FFFFFF;\n",
              "    }\n",
              "  </style>\n",
              "\n",
              "      <script>\n",
              "        const buttonEl =\n",
              "          document.querySelector('#df-9fa2e009-fd89-4aad-8def-8147be333632 button.colab-df-convert');\n",
              "        buttonEl.style.display =\n",
              "          google.colab.kernel.accessAllowed ? 'block' : 'none';\n",
              "\n",
              "        async function convertToInteractive(key) {\n",
              "          const element = document.querySelector('#df-9fa2e009-fd89-4aad-8def-8147be333632');\n",
              "          const dataTable =\n",
              "            await google.colab.kernel.invokeFunction('convertToInteractive',\n",
              "                                                     [key], {});\n",
              "          if (!dataTable) return;\n",
              "\n",
              "          const docLinkHtml = 'Like what you see? Visit the ' +\n",
              "            '<a target=\"_blank\" href=https://colab.research.google.com/notebooks/data_table.ipynb>data table notebook</a>'\n",
              "            + ' to learn more about interactive tables.';\n",
              "          element.innerHTML = '';\n",
              "          dataTable['output_type'] = 'display_data';\n",
              "          await google.colab.output.renderOutput(dataTable, element);\n",
              "          const docLink = document.createElement('div');\n",
              "          docLink.innerHTML = docLinkHtml;\n",
              "          element.appendChild(docLink);\n",
              "        }\n",
              "      </script>\n",
              "    </div>\n",
              "  </div>\n",
              "  "
            ]
          },
          "metadata": {},
          "execution_count": 482
        }
      ]
    },
    {
      "cell_type": "code",
      "source": [
        "print(\"Highest allowed\",df['dur'].mean() + 3*df['dur'].std())\n",
        "print(\"Lowest allowed\",df['dur'].mean() - 3*df['dur'].std())\n",
        "print(\"Highest allowed\",df['num_calls'].mean() + 3*df['num_calls'].std())\n",
        "print(\"Lowest allowed\",df['num_calls'].mean() - 3*df['num_calls'].std())\n",
        "print(\"Highest allowed\",df['age'].mean() + 3*df['age'].std())\n",
        "print(\"Lowest allowed\",df['age'].mean() - 3*df['age'].std())"
      ],
      "metadata": {
        "colab": {
          "base_uri": "https://localhost:8080/"
        },
        "id": "QgeLLJxr3DzC",
        "outputId": "ced2bc74-d015-48ba-9967-fd921a1fce03"
      },
      "execution_count": 483,
      "outputs": [
        {
          "output_type": "stream",
          "name": "stdout",
          "text": [
            "Highest allowed 1030.746516576985\n",
            "Lowest allowed -514.4203570140467\n",
            "Highest allowed 12.057903308084395\n",
            "Lowest allowed -6.530221991590622\n",
            "Highest allowed 72.79249633725463\n",
            "Lowest allowed 9.079924091402106\n"
          ]
        }
      ]
    },
    {
      "cell_type": "code",
      "source": [
        "df['dur'].describe()"
      ],
      "metadata": {
        "colab": {
          "base_uri": "https://localhost:8080/"
        },
        "id": "TZENshFEtDk7",
        "outputId": "ba381291-79c7-4e52-ef11-d1597b3fc59c"
      },
      "execution_count": 484,
      "outputs": [
        {
          "output_type": "execute_result",
          "data": {
            "text/plain": [
              "count    45211.000000\n",
              "mean       258.163080\n",
              "std        257.527812\n",
              "min          0.000000\n",
              "25%        103.000000\n",
              "50%        180.000000\n",
              "75%        319.000000\n",
              "max       4918.000000\n",
              "Name: dur, dtype: float64"
            ]
          },
          "metadata": {},
          "execution_count": 484
        }
      ]
    },
    {
      "cell_type": "code",
      "source": [
        "# df[(df['dur'] > 1030.74) | (df['dur'] < -514.4203570140467)]\n",
        "new_df = df[(df['dur'] > 1030.74) | (df['dur'] < -514.4203570140467)]"
      ],
      "metadata": {
        "id": "uRxFcus3c--x"
      },
      "execution_count": null,
      "outputs": []
    },
    {
      "cell_type": "code",
      "source": [
        "upper_limit = df['dur'].mean() + 3*df['dur'].std()\n",
        "lower_limit = df['dur'].mean() - 3*df['dur'].std()"
      ],
      "metadata": {
        "id": "3RhQylUhdtRw"
      },
      "execution_count": 485,
      "outputs": []
    },
    {
      "cell_type": "code",
      "source": [
        "import numpy as np\n",
        "\n",
        "df['dur'] = np.where(\n",
        "    df['dur']>upper_limit,\n",
        "    upper_limit,\n",
        "    np.where(\n",
        "        df['dur']<lower_limit,\n",
        "        lower_limit,\n",
        "        df['dur']))"
      ],
      "metadata": {
        "id": "h2zWpgNPd2OU"
      },
      "execution_count": 486,
      "outputs": []
    },
    {
      "cell_type": "code",
      "source": [
        "df['y'].value_counts()"
      ],
      "metadata": {
        "colab": {
          "base_uri": "https://localhost:8080/"
        },
        "id": "39daME4Rtz8d",
        "outputId": "c14b7705-c968-4dbf-b43f-23a2c6ba993e"
      },
      "execution_count": 487,
      "outputs": [
        {
          "output_type": "execute_result",
          "data": {
            "text/plain": [
              "no     39922\n",
              "yes     5289\n",
              "Name: y, dtype: int64"
            ]
          },
          "metadata": {},
          "execution_count": 487
        }
      ]
    },
    {
      "cell_type": "code",
      "source": [
        "df['dur'].describe()"
      ],
      "metadata": {
        "colab": {
          "base_uri": "https://localhost:8080/"
        },
        "id": "2VgRG3JweJU5",
        "outputId": "93acc4fe-cc08-41e6-b0a6-469dd96ed521"
      },
      "execution_count": 488,
      "outputs": [
        {
          "output_type": "execute_result",
          "data": {
            "text/plain": [
              "count    45211.000000\n",
              "mean       250.772487\n",
              "std        220.986371\n",
              "min          0.000000\n",
              "25%        103.000000\n",
              "50%        180.000000\n",
              "75%        319.000000\n",
              "max       1030.746517\n",
              "Name: dur, dtype: float64"
            ]
          },
          "metadata": {},
          "execution_count": 488
        }
      ]
    },
    {
      "cell_type": "code",
      "source": [
        "df['num_calls'].describe()"
      ],
      "metadata": {
        "colab": {
          "base_uri": "https://localhost:8080/"
        },
        "id": "z6iXp4yRw4w_",
        "outputId": "5ed2af6e-0e77-48be-cb86-47a88c71c77a"
      },
      "execution_count": 489,
      "outputs": [
        {
          "output_type": "execute_result",
          "data": {
            "text/plain": [
              "count    45211.000000\n",
              "mean         2.763841\n",
              "std          3.098021\n",
              "min          1.000000\n",
              "25%          1.000000\n",
              "50%          2.000000\n",
              "75%          3.000000\n",
              "max         63.000000\n",
              "Name: num_calls, dtype: float64"
            ]
          },
          "metadata": {},
          "execution_count": 489
        }
      ]
    },
    {
      "cell_type": "code",
      "source": [
        "new_df = df[(df['num_calls'] > 72) | (df['num_calls'] < 9)]\n",
        "\n",
        "upper_limit = df['num_calls'].mean() + 3*df['num_calls'].std()\n",
        "lower_limit = df['num_calls'].mean() - 3*df['num_calls'].std()\n",
        "\n",
        "import numpy as np\n",
        "\n",
        "df['num_calls'] = np.where(\n",
        "    df['num_calls']>upper_limit,\n",
        "    upper_limit,\n",
        "    np.where(\n",
        "        df['num_calls']<lower_limit,\n",
        "        lower_limit,\n",
        "        df['num_calls']))\n"
      ],
      "metadata": {
        "id": "_4JiVEXlxX83"
      },
      "execution_count": 490,
      "outputs": []
    },
    {
      "cell_type": "code",
      "source": [
        "df['num_calls'].describe()"
      ],
      "metadata": {
        "colab": {
          "base_uri": "https://localhost:8080/"
        },
        "id": "5TF-IBkax221",
        "outputId": "5ff0513a-1479-4192-878c-b2390d0f03b9"
      },
      "execution_count": 491,
      "outputs": [
        {
          "output_type": "execute_result",
          "data": {
            "text/plain": [
              "count    45211.000000\n",
              "mean         2.632957\n",
              "std          2.319295\n",
              "min          1.000000\n",
              "25%          1.000000\n",
              "50%          2.000000\n",
              "75%          3.000000\n",
              "max         12.057903\n",
              "Name: num_calls, dtype: float64"
            ]
          },
          "metadata": {},
          "execution_count": 491
        }
      ]
    },
    {
      "cell_type": "code",
      "source": [
        "df['age'].describe()"
      ],
      "metadata": {
        "colab": {
          "base_uri": "https://localhost:8080/"
        },
        "id": "FR-4jZ5RAt7x",
        "outputId": "01f10ca8-eede-40ea-f913-870bde008c0c"
      },
      "execution_count": 492,
      "outputs": [
        {
          "output_type": "execute_result",
          "data": {
            "text/plain": [
              "count    45211.000000\n",
              "mean        40.936210\n",
              "std         10.618762\n",
              "min         18.000000\n",
              "25%         33.000000\n",
              "50%         39.000000\n",
              "75%         48.000000\n",
              "max         95.000000\n",
              "Name: age, dtype: float64"
            ]
          },
          "metadata": {},
          "execution_count": 492
        }
      ]
    },
    {
      "cell_type": "code",
      "source": [
        "\n",
        "upper_limit = df['age'].mean() + 3*df['age'].std()\n",
        "lower_limit = df['age'].mean() - 3*df['age'].std()\n",
        "\n",
        "import numpy as np\n",
        "\n",
        "df['age'] = np.where(\n",
        "    df['age']>upper_limit,\n",
        "    upper_limit,\n",
        "    np.where(\n",
        "        df['age']<lower_limit,\n",
        "        lower_limit,\n",
        "        df['age']))"
      ],
      "metadata": {
        "id": "MRjVvQ91Az9I"
      },
      "execution_count": 493,
      "outputs": []
    },
    {
      "cell_type": "code",
      "source": [
        "df['age'].describe()"
      ],
      "metadata": {
        "colab": {
          "base_uri": "https://localhost:8080/"
        },
        "id": "TEXN2nUUBIyO",
        "outputId": "367ab56a-2072-427b-caa1-15ec80c33a16"
      },
      "execution_count": 494,
      "outputs": [
        {
          "output_type": "execute_result",
          "data": {
            "text/plain": [
              "count    45211.000000\n",
              "mean        40.889826\n",
              "std         10.458640\n",
              "min         18.000000\n",
              "25%         33.000000\n",
              "50%         39.000000\n",
              "75%         48.000000\n",
              "max         72.792496\n",
              "Name: age, dtype: float64"
            ]
          },
          "metadata": {},
          "execution_count": 494
        }
      ]
    },
    {
      "cell_type": "code",
      "source": [
        "# label encoding yes as 1 no as 0 y column\n",
        "mapping={'yes':1,'no':0}\n",
        "df['Target']=df['y'].replace(mapping)"
      ],
      "metadata": {
        "id": "-eVAq-dMekLK"
      },
      "execution_count": 495,
      "outputs": []
    },
    {
      "cell_type": "code",
      "source": [
        "df['Target'].value_counts()\n"
      ],
      "metadata": {
        "colab": {
          "base_uri": "https://localhost:8080/"
        },
        "id": "aWYYgiujJkIX",
        "outputId": "d2ed01a3-bfee-4d58-a083-ea4393b9fe8d"
      },
      "execution_count": 496,
      "outputs": [
        {
          "output_type": "execute_result",
          "data": {
            "text/plain": [
              "0    39922\n",
              "1     5289\n",
              "Name: Target, dtype: int64"
            ]
          },
          "metadata": {},
          "execution_count": 496
        }
      ]
    },
    {
      "cell_type": "code",
      "source": [
        "df.groupby(['job'])['Target'].mean().sort_values(ascending=False)"
      ],
      "metadata": {
        "colab": {
          "base_uri": "https://localhost:8080/"
        },
        "id": "RXJGfNfy4yc7",
        "outputId": "fcabb675-9f3b-47fb-f138-87772c687489"
      },
      "execution_count": 497,
      "outputs": [
        {
          "output_type": "execute_result",
          "data": {
            "text/plain": [
              "job\n",
              "student          0.286780\n",
              "retired          0.227915\n",
              "unemployed       0.155027\n",
              "management       0.137556\n",
              "admin.           0.122027\n",
              "self-employed    0.118429\n",
              "unknown          0.118056\n",
              "technician       0.110570\n",
              "services         0.088830\n",
              "housemaid        0.087903\n",
              "entrepreneur     0.082717\n",
              "blue-collar      0.072750\n",
              "Name: Target, dtype: float64"
            ]
          },
          "metadata": {},
          "execution_count": 497
        }
      ]
    },
    {
      "cell_type": "code",
      "source": [
        "df.groupby(['marital'])['Target'].mean().sort_values(ascending=False)"
      ],
      "metadata": {
        "id": "t-3_aYN3K3os",
        "colab": {
          "base_uri": "https://localhost:8080/"
        },
        "outputId": "98e4e3c3-3d7b-4337-82fa-cfca6f8bad2d"
      },
      "execution_count": 498,
      "outputs": [
        {
          "output_type": "execute_result",
          "data": {
            "text/plain": [
              "marital\n",
              "single      0.149492\n",
              "divorced    0.119455\n",
              "married     0.101235\n",
              "Name: Target, dtype: float64"
            ]
          },
          "metadata": {},
          "execution_count": 498
        }
      ]
    },
    {
      "cell_type": "code",
      "source": [
        "df.groupby(['education_qual'])['Target'].mean().sort_values(ascending=False)"
      ],
      "metadata": {
        "id": "pSkSB_1sK3aH",
        "colab": {
          "base_uri": "https://localhost:8080/"
        },
        "outputId": "cb2a9d7c-cb64-46d6-91f8-85a9d273f14f"
      },
      "execution_count": 499,
      "outputs": [
        {
          "output_type": "execute_result",
          "data": {
            "text/plain": [
              "education_qual\n",
              "tertiary     0.150064\n",
              "unknown      0.135703\n",
              "secondary    0.105594\n",
              "primary      0.086265\n",
              "Name: Target, dtype: float64"
            ]
          },
          "metadata": {},
          "execution_count": 499
        }
      ]
    },
    {
      "cell_type": "code",
      "source": [
        "(df.groupby('dur')['Target'].mean()).sort_values(ascending=False).plot(kind='box')"
      ],
      "metadata": {
        "colab": {
          "base_uri": "https://localhost:8080/",
          "height": 282
        },
        "id": "ax4naITOiy4X",
        "outputId": "eb9e0e15-75e1-4391-cd41-9dc08bbc8960"
      },
      "execution_count": 500,
      "outputs": [
        {
          "output_type": "execute_result",
          "data": {
            "text/plain": [
              "<AxesSubplot:>"
            ]
          },
          "metadata": {},
          "execution_count": 500
        },
        {
          "output_type": "display_data",
          "data": {
            "text/plain": [
              "<Figure size 432x288 with 1 Axes>"
            ],
            "image/png": "[encoded data removed]"
          },
          "metadata": {
            "needs_background": "light"
          }
        }
      ]
    },
    {
      "cell_type": "code",
      "source": [
        "df.groupby(['call_type'])['Target'].mean().sort_values(ascending=False)"
      ],
      "metadata": {
        "colab": {
          "base_uri": "https://localhost:8080/"
        },
        "id": "TzsNXcOVi3S4",
        "outputId": "f7e1fd1c-fae4-4dbb-eba7-cafc758c3cef"
      },
      "execution_count": 501,
      "outputs": [
        {
          "output_type": "execute_result",
          "data": {
            "text/plain": [
              "call_type\n",
              "cellular     0.149189\n",
              "telephone    0.134205\n",
              "unknown      0.040707\n",
              "Name: Target, dtype: float64"
            ]
          },
          "metadata": {},
          "execution_count": 501
        }
      ]
    },
    {
      "cell_type": "code",
      "source": [
        "df.groupby(['mon'])['Target'].mean().sort_values(ascending=False)"
      ],
      "metadata": {
        "colab": {
          "base_uri": "https://localhost:8080/"
        },
        "id": "EfwFYWx9i3Q4",
        "outputId": "baff31be-69c5-4c21-e009-ae1be343bac8"
      },
      "execution_count": 502,
      "outputs": [
        {
          "output_type": "execute_result",
          "data": {
            "text/plain": [
              "mon\n",
              "mar    0.519916\n",
              "dec    0.467290\n",
              "sep    0.464594\n",
              "oct    0.437669\n",
              "apr    0.196794\n",
              "feb    0.166478\n",
              "aug    0.110133\n",
              "jun    0.102228\n",
              "nov    0.101511\n",
              "jan    0.101212\n",
              "jul    0.090935\n",
              "may    0.067195\n",
              "Name: Target, dtype: float64"
            ]
          },
          "metadata": {},
          "execution_count": 502
        }
      ]
    },
    {
      "cell_type": "code",
      "source": [
        "df.groupby(['num_calls'])['Target'].mean().sort_values(ascending=False)"
      ],
      "metadata": {
        "colab": {
          "base_uri": "https://localhost:8080/"
        },
        "id": "JmmZHn5ei3Om",
        "outputId": "06fbea7a-0b1d-4c1e-9a47-c4012a61a122"
      },
      "execution_count": 503,
      "outputs": [
        {
          "output_type": "execute_result",
          "data": {
            "text/plain": [
              "num_calls\n",
              "1.000000     0.145976\n",
              "2.000000     0.112035\n",
              "3.000000     0.111936\n",
              "4.000000     0.090006\n",
              "11.000000    0.079602\n",
              "5.000000     0.078798\n",
              "6.000000     0.071263\n",
              "9.000000     0.064220\n",
              "7.000000     0.063946\n",
              "8.000000     0.059259\n",
              "10.000000    0.052632\n",
              "12.057903    0.032143\n",
              "12.000000    0.025806\n",
              "Name: Target, dtype: float64"
            ]
          },
          "metadata": {},
          "execution_count": 503
        }
      ]
    },
    {
      "cell_type": "code",
      "source": [
        "import numpy as np\n",
        "df['job']=df['job'].replace('unknown',np.nan)"
      ],
      "metadata": {
        "id": "AsyrSDmHWyPY"
      },
      "execution_count": 504,
      "outputs": []
    },
    {
      "cell_type": "code",
      "source": [
        "df['job']=df['job'].fillna('blue-collar')"
      ],
      "metadata": {
        "id": "NvSPeIg7W4E6"
      },
      "execution_count": 505,
      "outputs": []
    },
    {
      "cell_type": "code",
      "source": [
        "import numpy as np\n",
        "df['education_qual']=df['education_qual'].replace('unknown',np.nan)"
      ],
      "metadata": {
        "id": "_WrUCYM9W8hU"
      },
      "execution_count": 506,
      "outputs": []
    },
    {
      "cell_type": "code",
      "source": [
        "df['education_qual']=df['education_qual'].fillna('secondary')"
      ],
      "metadata": {
        "id": "vpSCJ0GPXDFm"
      },
      "execution_count": 507,
      "outputs": []
    },
    {
      "cell_type": "markdown",
      "source": [
        " **Exploratory Data analyst**"
      ],
      "metadata": {
        "id": "zbrgpEhRlPHi"
      }
    },
    {
      "cell_type": "code",
      "source": [
        "import seaborn as sns\n",
        "import matplotlib.pyplot as plt\n",
        "fig,ax=plt.subplots(1,2,figsize=(15,6))\n",
        "df_j=pd.DataFrame(df.job.value_counts()).sort_values('job',ascending=False).reset_index()\n",
        "df_j.rename(columns={'index':'jobs','job':'count'},inplace=True)\n",
        "bar=sns.barplot(x=df_j['jobs'],y=df_j['count'],data=df_j,ax = ax[0])\n",
        "bar.tick_params(axis='x',rotation=90)\n",
        "\n",
        "df.groupby('job')['Target'].mean().sort_values(ascending=True)\n",
        "bar=sns.barplot(x=df['job'].sort_values(),y='Target',data=df,ax = ax[1])\n",
        "bar.tick_params(axis='x',rotation=90)"
      ],
      "metadata": {
        "colab": {
          "base_uri": "https://localhost:8080/",
          "height": 448
        },
        "id": "WHOUYAwEi3MQ",
        "outputId": "e14cdbc6-0dfd-450a-bfb3-0064b4b8a490"
      },
      "execution_count": 178,
      "outputs": [
        {
          "output_type": "display_data",
          "data": {
            "text/plain": [
              "<Figure size 1080x432 with 2 Axes>"
            ],
            "image/png": "[encoded data removed]"
          },
          "metadata": {
            "needs_background": "light"
          }
        }
      ]
    },
    {
      "cell_type": "code",
      "source": [
        "job={'student':0,'retired':1,'unemployed':2,'management':3,'admin.':4,'self-employed':5,'technician':6,'services':7,'housemaid':8,'entrepreneur':9,'blue-collar':10}\n",
        "df['job'].replace(job,inplace=True)\n"
      ],
      "metadata": {
        "id": "gmHexw4E2u42"
      },
      "execution_count": 508,
      "outputs": []
    },
    {
      "cell_type": "code",
      "source": [
        "import seaborn as sns\n",
        "import matplotlib.pyplot as plt\n",
        "fig,ax=plt.subplots(1,2,figsize=(15,6))\n",
        "df_m=pd.DataFrame(df.marital.value_counts()).sort_values('marital',ascending=False).reset_index()\n",
        "df_m.rename(columns={'index':'marital','marital':'counts'},inplace=True)\n",
        "bar=sns.barplot(x=df_m['marital'],y=df_m['counts'],data=df_m,ax = ax[0])\n",
        "bar.tick_params(axis='x',rotation=90)\n",
        "\n",
        "df.groupby('marital')['Target'].mean().sort_values(ascending=False)\n",
        "bar=sns.barplot(x=df['marital'].sort_values(),y='Target',data=df,ax = ax[1])\n"
      ],
      "metadata": {
        "colab": {
          "base_uri": "https://localhost:8080/",
          "height": 421
        },
        "id": "_li4a2Vki3Jq",
        "outputId": "720bddb9-f63b-4d13-c1aa-981c6a07fb89"
      },
      "execution_count": 179,
      "outputs": [
        {
          "output_type": "display_data",
          "data": {
            "text/plain": [
              "<Figure size 1080x432 with 2 Axes>"
            ],
            "image/png": "[encoded data removed]"
          },
          "metadata": {
            "needs_background": "light"
          }
        }
      ]
    },
    {
      "cell_type": "code",
      "source": [
        "mar={'single':0,'divorced':1,'married':2}\n",
        "df['marital'].replace(mar,inplace=True)"
      ],
      "metadata": {
        "id": "e86HxGny2GC3"
      },
      "execution_count": 509,
      "outputs": []
    },
    {
      "cell_type": "code",
      "source": [
        "import seaborn as sns\n",
        "import matplotlib.pyplot as plt\n",
        "fig,ax=plt.subplots(1,2,figsize=(15,6))\n",
        "df_e=pd.DataFrame(df.education_qual.value_counts()).sort_values('education_qual',ascending=False).reset_index()\n",
        "df_e.rename(columns={'index':'education_qual','education_qual':'counts'},inplace=True)\n",
        "bar=sns.barplot(x=df_e['education_qual'],y=df_e['counts'],data=df_e,ax = ax[0])\n",
        "bar.tick_params(axis='x',rotation=90)\n",
        "\n",
        "df.groupby('education_qual')['Target'].mean().sort_values(ascending=False)\n",
        "bar=sns.barplot(x=df['education_qual'].sort_values(),y='Target',data=df,ax = ax[1])"
      ],
      "metadata": {
        "colab": {
          "base_uri": "https://localhost:8080/",
          "height": 431
        },
        "id": "XU5N6xVM46yU",
        "outputId": "80d4d5f4-67ec-40b7-8400-1bf876ab0a2d"
      },
      "execution_count": 180,
      "outputs": [
        {
          "output_type": "display_data",
          "data": {
            "text/plain": [
              "<Figure size 1080x432 with 2 Axes>"
            ],
            "image/png": "[encoded data removed]"
          },
          "metadata": {
            "needs_background": "light"
          }
        }
      ]
    },
    {
      "cell_type": "code",
      "source": [
        "edu_qul={'secondary':2,'tertiary':1,'primary':0}\n",
        "df['education_qual'].replace(edu_qul,inplace=True)"
      ],
      "metadata": {
        "id": "VO26h_qb1Ghe"
      },
      "execution_count": 510,
      "outputs": []
    },
    {
      "cell_type": "code",
      "source": [
        "import seaborn as sns\n",
        "import matplotlib.pyplot as plt\n",
        "fig,ax=plt.subplots(1,2,figsize=(15,6))\n",
        "df_e=pd.DataFrame(df.prev_outcome.value_counts()).sort_values('prev_outcome',ascending=False).reset_index()\n",
        "df_e.rename(columns={'index':'prev_outcome','prev_outcome':'counts'},inplace=True)\n",
        "bar=sns.barplot(x=df_e['prev_outcome'],y=df_e['counts'],data=df_e,ax = ax[0])\n",
        "bar.tick_params(axis='x',rotation=90)\n",
        "\n",
        "df.groupby('prev_outcome')['Target'].mean().sort_values(ascending=False)\n",
        "bar=sns.barplot(x=df['prev_outcome'].sort_values(),y='Target',data=df,ax = ax[1])"
      ],
      "metadata": {
        "colab": {
          "base_uri": "https://localhost:8080/",
          "height": 426
        },
        "id": "hu3mkbnB5ahl",
        "outputId": "f5bfaa25-12b0-49ba-9189-b82373a86e5a"
      },
      "execution_count": 181,
      "outputs": [
        {
          "output_type": "display_data",
          "data": {
            "text/plain": [
              "<Figure size 1080x432 with 2 Axes>"
            ],
            "image/png": "[encoded data removed]"
          },
          "metadata": {
            "needs_background": "light"
          }
        }
      ]
    },
    {
      "cell_type": "code",
      "source": [
        "prev_outcome={'success':0,'other':1,'failure':2,'unknown':3}\n",
        "df['prev_outcome'].replace(prev_outcome,inplace=True)"
      ],
      "metadata": {
        "id": "xFm9LDSS25J4"
      },
      "execution_count": 511,
      "outputs": []
    },
    {
      "cell_type": "code",
      "source": [
        "import seaborn as sns\n",
        "import matplotlib.pyplot as plt\n",
        "fig,ax=plt.subplots(1,3,figsize=(20,6))\n",
        "df_e=pd.DataFrame(df.day.value_counts()).sort_values('day',ascending=False).reset_index()\n",
        "df_e.rename(columns={'index':'day','day':'counts'},inplace=True)\n",
        "bar=sns.barplot(x=df_e['day'],y=df_e['counts'],data=df_e,ax = ax[0])\n",
        "\n",
        "\n",
        "df.groupby('day')['Target'].mean().sort_values(ascending=False)\n",
        "bar=sns.boxplot(x='Target',y=df['day'],data=df,ax= ax[1])\n",
        "bar=sns.barplot(y='Target',x=df['day'],data=df,ax=ax[2])"
      ],
      "metadata": {
        "colab": {
          "base_uri": "https://localhost:8080/",
          "height": 388
        },
        "id": "vdNCLcTS5aZI",
        "outputId": "89d01574-715b-467d-dbbb-6f3330e35b20"
      },
      "execution_count": 182,
      "outputs": [
        {
          "output_type": "display_data",
          "data": {
            "text/plain": [
              "<Figure size 1440x432 with 3 Axes>"
            ],
            "image/png": "[encoded data removed]"
          },
          "metadata": {
            "needs_background": "light"
          }
        }
      ]
    },
    {
      "cell_type": "code",
      "source": [
        "import seaborn as sns\n",
        "import matplotlib.pyplot as plt\n",
        "fig,ax=plt.subplots(1,2,figsize=(15,6))\n",
        "df_e=pd.DataFrame(df.mon.value_counts()).sort_values('mon',ascending=False).reset_index()\n",
        "df_e.rename(columns={'index':'mon','mon':'counts'},inplace=True)\n",
        "bar=sns.barplot(x=df_e['mon'],y=df_e['counts'],data=df_e,ax = ax[0])\n",
        "\n",
        "df.groupby('mon')['Target'].mean().sort_values(ascending=False)\n",
        "\n",
        "bar=sns.barplot(x=df['mon'].sort_values(ascending=False),y='Target',data=df,ax = ax[1])"
      ],
      "metadata": {
        "colab": {
          "base_uri": "https://localhost:8080/",
          "height": 388
        },
        "id": "7tArEv1F5aUl",
        "outputId": "a28ed247-057c-4b86-cadd-1cd9bdaa7f32"
      },
      "execution_count": 183,
      "outputs": [
        {
          "output_type": "display_data",
          "data": {
            "text/plain": [
              "<Figure size 1080x432 with 2 Axes>"
            ],
            "image/png": "[encoded data removed]"
          },
          "metadata": {
            "needs_background": "light"
          }
        }
      ]
    },
    {
      "cell_type": "code",
      "source": [
        "mon={'jan':6,'feb':5,'mar':0,'apr':4,'may':11,'jun':7,'jul':10,'aug':8,'sep':2,'oct':3,'nov':9,'dec':1}\n",
        "df['mon'].replace(mon,inplace=True)"
      ],
      "metadata": {
        "id": "QRwTAsn96Zj7"
      },
      "execution_count": 512,
      "outputs": []
    },
    {
      "cell_type": "code",
      "source": [
        "import seaborn as sns\n",
        "import matplotlib.pyplot as plt\n",
        "fig,ax=plt.subplots(1,2,figsize=(15,6))\n",
        "df_e=pd.DataFrame(df.call_type.value_counts()).sort_values('call_type',ascending=False).reset_index()\n",
        "df_e.rename(columns={'index':'call_type','call_type':'counts'},inplace=True)\n",
        "bar=sns.barplot(x=df_e['call_type'],y=df_e['counts'],data=df_e,ax = ax[0])\n",
        "\n",
        "df.groupby('call_type')['Target'].mean().sort_values(ascending=False)\n",
        "\n",
        "bar=sns.barplot(x=df['call_type'].sort_values(ascending=False),y='Target',data=df,ax = ax[1])"
      ],
      "metadata": {
        "colab": {
          "base_uri": "https://localhost:8080/",
          "height": 391
        },
        "id": "itUEgsxV6PzY",
        "outputId": "dc2a3082-1097-4a7b-aac9-3714fb492364"
      },
      "execution_count": null,
      "outputs": [
        {
          "output_type": "display_data",
          "data": {
            "text/plain": [
              "<Figure size 1080x432 with 2 Axes>"
            ],
            "image/png": "[encoded data removed]"
          },
          "metadata": {
            "needs_background": "light"
          }
        }
      ]
    },
    {
      "cell_type": "code",
      "source": [
        "call_type={'cellular':2,'unknown':0,'telephone':1}\n",
        "df['call_type'].replace(call_type,inplace=True)"
      ],
      "metadata": {
        "id": "I5shX0nJ11ag"
      },
      "execution_count": 513,
      "outputs": []
    },
    {
      "cell_type": "code",
      "source": [
        "import seaborn as sns\n",
        "import matplotlib.pyplot as plt\n",
        "fig,ax=plt.subplots(1,3,figsize=(35,15))\n",
        "df_e=pd.DataFrame(df.age.value_counts()).sort_values('age',ascending=False).reset_index()\n",
        "df_e.rename(columns={'index':'age','age':'counts'},inplace=True)\n",
        "bar=sns.barplot(x=df_e['age'],y=df_e['counts'],data=df_e,ax = ax[0])\n",
        "bar.tick_params(axis='x',rotation=90)\n",
        "\n",
        "df.groupby('age')['Target'].mean().sort_values(ascending=False)\n",
        "bar=sns.boxplot(x='Target',y=df['age'],data=df,ax= ax[1])\n",
        "bar.tick_params(axis='x',rotation=90)\n",
        "bar=sns.barplot(y='Target',x=df['age'],data=df,ax=ax[2])\n",
        "bar.tick_params(axis='x',rotation=90)"
      ],
      "metadata": {
        "colab": {
          "base_uri": "https://localhost:8080/",
          "height": 900
        },
        "id": "L5aYTAYsi3En",
        "outputId": "52138cfc-972c-47ad-837e-2cedffec3e31"
      },
      "execution_count": 188,
      "outputs": [
        {
          "output_type": "display_data",
          "data": {
            "text/plain": [
              "<Figure size 2520x1080 with 3 Axes>"
            ],
            "image/png": "[encoded data removed]"
          },
          "metadata": {
            "needs_background": "light"
          }
        }
      ]
    },
    {
      "cell_type": "markdown",
      "source": [],
      "metadata": {
        "id": "qNBrblQUN2i0"
      }
    },
    {
      "cell_type": "code",
      "source": [
        "mapping={'yes':1,'no':0}\n",
        "df['y'].replace(mapping,inplace=True)"
      ],
      "metadata": {
        "id": "KMNKNfuLVBWq"
      },
      "execution_count": 514,
      "outputs": []
    },
    {
      "cell_type": "code",
      "source": [
        "# # import the KNNimputer class\n",
        "# from sklearn.impute import KNNImputer\n",
        "# imputer = KNNImputer(n_neighbors=3)\n",
        "# After_imputation = imputer.fit_transform(df['job'])"
      ],
      "metadata": {
        "id": "4oQrxVtoQpft"
      },
      "execution_count": null,
      "outputs": []
    },
    {
      "cell_type": "code",
      "source": [
        "\n",
        "df"
      ],
      "metadata": {
        "colab": {
          "base_uri": "https://localhost:8080/",
          "height": 423
        },
        "id": "fyeASf7MIYQb",
        "outputId": "bcd8984f-97b0-4af0-c7c6-fa21c540fb4d"
      },
      "execution_count": 434,
      "outputs": [
        {
          "output_type": "execute_result",
          "data": {
            "text/plain": [
              "        age           job   marital education_qual  call_type  day  mon  \\\n",
              "0      58.0    management   married       tertiary    unknown    5  may   \n",
              "1      44.0    technician    single      secondary    unknown    5  may   \n",
              "2      33.0  entrepreneur   married      secondary    unknown    5  may   \n",
              "3      47.0   blue-collar   married      secondary    unknown    5  may   \n",
              "4      33.0   blue-collar    single      secondary    unknown    5  may   \n",
              "...     ...           ...       ...            ...        ...  ...  ...   \n",
              "45206  51.0    technician   married       tertiary   cellular   17  nov   \n",
              "45207  71.0       retired  divorced        primary   cellular   17  nov   \n",
              "45208  72.0       retired   married      secondary   cellular   17  nov   \n",
              "45209  57.0   blue-collar   married      secondary  telephone   17  nov   \n",
              "45210  37.0  entrepreneur   married      secondary   cellular   17  nov   \n",
              "\n",
              "               dur  num_calls prev_outcome  y  Target  \n",
              "0       261.000000        1.0      unknown  0       0  \n",
              "1       151.000000        1.0      unknown  0       0  \n",
              "2        76.000000        1.0      unknown  0       0  \n",
              "3        92.000000        1.0      unknown  0       0  \n",
              "4       198.000000        1.0      unknown  0       0  \n",
              "...            ...        ...          ... ..     ...  \n",
              "45206   977.000000        3.0      unknown  1       1  \n",
              "45207   456.000000        2.0      unknown  1       1  \n",
              "45208  1030.746517        5.0      success  1       1  \n",
              "45209   508.000000        4.0      unknown  0       0  \n",
              "45210   361.000000        2.0        other  0       0  \n",
              "\n",
              "[45211 rows x 12 columns]"
            ],
            "text/html": [
              "\n",
              "  <div id=\"df-4ccf39c1-bafc-4de8-9fc2-059b99b13794\">\n",
              "    <div class=\"colab-df-container\">\n",
              "      <div>\n",
              "<style scoped>\n",
              "    .dataframe tbody tr th:only-of-type {\n",
              "        vertical-align: middle;\n",
              "    }\n",
              "\n",
              "    .dataframe tbody tr th {\n",
              "        vertical-align: top;\n",
              "    }\n",
              "\n",
              "    .dataframe thead th {\n",
              "        text-align: right;\n",
              "    }\n",
              "</style>\n",
              "<table border=\"1\" class=\"dataframe\">\n",
              "  <thead>\n",
              "    <tr style=\"text-align: right;\">\n",
              "      <th></th>\n",
              "      <th>age</th>\n",
              "      <th>job</th>\n",
              "      <th>marital</th>\n",
              "      <th>education_qual</th>\n",
              "      <th>call_type</th>\n",
              "      <th>day</th>\n",
              "      <th>mon</th>\n",
              "      <th>dur</th>\n",
              "      <th>num_calls</th>\n",
              "      <th>prev_outcome</th>\n",
              "      <th>y</th>\n",
              "      <th>Target</th>\n",
              "    </tr>\n",
              "  </thead>\n",
              "  <tbody>\n",
              "    <tr>\n",
              "      <th>0</th>\n",
              "      <td>58.0</td>\n",
              "      <td>management</td>\n",
              "      <td>married</td>\n",
              "      <td>tertiary</td>\n",
              "      <td>unknown</td>\n",
              "      <td>5</td>\n",
              "      <td>may</td>\n",
              "      <td>261.000000</td>\n",
              "      <td>1.0</td>\n",
              "      <td>unknown</td>\n",
              "      <td>0</td>\n",
              "      <td>0</td>\n",
              "    </tr>\n",
              "    <tr>\n",
              "      <th>1</th>\n",
              "      <td>44.0</td>\n",
              "      <td>technician</td>\n",
              "      <td>single</td>\n",
              "      <td>secondary</td>\n",
              "      <td>unknown</td>\n",
              "      <td>5</td>\n",
              "      <td>may</td>\n",
              "      <td>151.000000</td>\n",
              "      <td>1.0</td>\n",
              "      <td>unknown</td>\n",
              "      <td>0</td>\n",
              "      <td>0</td>\n",
              "    </tr>\n",
              "    <tr>\n",
              "      <th>2</th>\n",
              "      <td>33.0</td>\n",
              "      <td>entrepreneur</td>\n",
              "      <td>married</td>\n",
              "      <td>secondary</td>\n",
              "      <td>unknown</td>\n",
              "      <td>5</td>\n",
              "      <td>may</td>\n",
              "      <td>76.000000</td>\n",
              "      <td>1.0</td>\n",
              "      <td>unknown</td>\n",
              "      <td>0</td>\n",
              "      <td>0</td>\n",
              "    </tr>\n",
              "    <tr>\n",
              "      <th>3</th>\n",
              "      <td>47.0</td>\n",
              "      <td>blue-collar</td>\n",
              "      <td>married</td>\n",
              "      <td>secondary</td>\n",
              "      <td>unknown</td>\n",
              "      <td>5</td>\n",
              "      <td>may</td>\n",
              "      <td>92.000000</td>\n",
              "      <td>1.0</td>\n",
              "      <td>unknown</td>\n",
              "      <td>0</td>\n",
              "      <td>0</td>\n",
              "    </tr>\n",
              "    <tr>\n",
              "      <th>4</th>\n",
              "      <td>33.0</td>\n",
              "      <td>blue-collar</td>\n",
              "      <td>single</td>\n",
              "      <td>secondary</td>\n",
              "      <td>unknown</td>\n",
              "      <td>5</td>\n",
              "      <td>may</td>\n",
              "      <td>198.000000</td>\n",
              "      <td>1.0</td>\n",
              "      <td>unknown</td>\n",
              "      <td>0</td>\n",
              "      <td>0</td>\n",
              "    </tr>\n",
              "    <tr>\n",
              "      <th>...</th>\n",
              "      <td>...</td>\n",
              "      <td>...</td>\n",
              "      <td>...</td>\n",
              "      <td>...</td>\n",
              "      <td>...</td>\n",
              "      <td>...</td>\n",
              "      <td>...</td>\n",
              "      <td>...</td>\n",
              "      <td>...</td>\n",
              "      <td>...</td>\n",
              "      <td>...</td>\n",
              "      <td>...</td>\n",
              "    </tr>\n",
              "    <tr>\n",
              "      <th>45206</th>\n",
              "      <td>51.0</td>\n",
              "      <td>technician</td>\n",
              "      <td>married</td>\n",
              "      <td>tertiary</td>\n",
              "      <td>cellular</td>\n",
              "      <td>17</td>\n",
              "      <td>nov</td>\n",
              "      <td>977.000000</td>\n",
              "      <td>3.0</td>\n",
              "      <td>unknown</td>\n",
              "      <td>1</td>\n",
              "      <td>1</td>\n",
              "    </tr>\n",
              "    <tr>\n",
              "      <th>45207</th>\n",
              "      <td>71.0</td>\n",
              "      <td>retired</td>\n",
              "      <td>divorced</td>\n",
              "      <td>primary</td>\n",
              "      <td>cellular</td>\n",
              "      <td>17</td>\n",
              "      <td>nov</td>\n",
              "      <td>456.000000</td>\n",
              "      <td>2.0</td>\n",
              "      <td>unknown</td>\n",
              "      <td>1</td>\n",
              "      <td>1</td>\n",
              "    </tr>\n",
              "    <tr>\n",
              "      <th>45208</th>\n",
              "      <td>72.0</td>\n",
              "      <td>retired</td>\n",
              "      <td>married</td>\n",
              "      <td>secondary</td>\n",
              "      <td>cellular</td>\n",
              "      <td>17</td>\n",
              "      <td>nov</td>\n",
              "      <td>1030.746517</td>\n",
              "      <td>5.0</td>\n",
              "      <td>success</td>\n",
              "      <td>1</td>\n",
              "      <td>1</td>\n",
              "    </tr>\n",
              "    <tr>\n",
              "      <th>45209</th>\n",
              "      <td>57.0</td>\n",
              "      <td>blue-collar</td>\n",
              "      <td>married</td>\n",
              "      <td>secondary</td>\n",
              "      <td>telephone</td>\n",
              "      <td>17</td>\n",
              "      <td>nov</td>\n",
              "      <td>508.000000</td>\n",
              "      <td>4.0</td>\n",
              "      <td>unknown</td>\n",
              "      <td>0</td>\n",
              "      <td>0</td>\n",
              "    </tr>\n",
              "    <tr>\n",
              "      <th>45210</th>\n",
              "      <td>37.0</td>\n",
              "      <td>entrepreneur</td>\n",
              "      <td>married</td>\n",
              "      <td>secondary</td>\n",
              "      <td>cellular</td>\n",
              "      <td>17</td>\n",
              "      <td>nov</td>\n",
              "      <td>361.000000</td>\n",
              "      <td>2.0</td>\n",
              "      <td>other</td>\n",
              "      <td>0</td>\n",
              "      <td>0</td>\n",
              "    </tr>\n",
              "  </tbody>\n",
              "</table>\n",
              "<p>45211 rows × 12 columns</p>\n",
              "</div>\n",
              "      <button class=\"colab-df-convert\" onclick=\"convertToInteractive('df-4ccf39c1-bafc-4de8-9fc2-059b99b13794')\"\n",
              "              title=\"Convert this dataframe to an interactive table.\"\n",
              "              style=\"display:none;\">\n",
              "        \n",
              "  <svg xmlns=\"http://www.w3.org/2000/svg\" height=\"24px\"viewBox=\"0 0 24 24\"\n",
              "       width=\"24px\">\n",
              "    <path d=\"M0 0h24v24H0V0z\" fill=\"none\"/>\n",
              "    <path d=\"M18.56 5.44l.94 2.06.94-2.06 2.06-.94-2.06-.94-.94-2.06-.94 2.06-2.06.94zm-11 1L8.5 8.5l.94-2.06 2.06-.94-2.06-.94L8.5 2.5l-.94 2.06-2.06.94zm10 10l.94 2.06.94-2.06 2.06-.94-2.06-.94-.94-2.06-.94 2.06-2.06.94z\"/><path d=\"M17.41 7.96l-1.37-1.37c-.4-.4-.92-.59-1.43-.59-.52 0-1.04.2-1.43.59L10.3 9.45l-7.72 7.72c-.78.78-.78 2.05 0 2.83L4 21.41c.39.39.9.59 1.41.59.51 0 1.02-.2 1.41-.59l7.78-7.78 2.81-2.81c.8-.78.8-2.07 0-2.86zM5.41 20L4 18.59l7.72-7.72 1.47 1.35L5.41 20z\"/>\n",
              "  </svg>\n",
              "      </button>\n",
              "      \n",
              "  <style>\n",
              "    .colab-df-container {\n",
              "      display:flex;\n",
              "      flex-wrap:wrap;\n",
              "      gap: 12px;\n",
              "    }\n",
              "\n",
              "    .colab-df-convert {\n",
              "      background-color: #E8F0FE;\n",
              "      border: none;\n",
              "      border-radius: 50%;\n",
              "      cursor: pointer;\n",
              "      display: none;\n",
              "      fill: #1967D2;\n",
              "      height: 32px;\n",
              "      padding: 0 0 0 0;\n",
              "      width: 32px;\n",
              "    }\n",
              "\n",
              "    .colab-df-convert:hover {\n",
              "      background-color: #E2EBFA;\n",
              "      box-shadow: 0px 1px 2px rgba(60, 64, 67, 0.3), 0px 1px 3px 1px rgba(60, 64, 67, 0.15);\n",
              "      fill: #174EA6;\n",
              "    }\n",
              "\n",
              "    [theme=dark] .colab-df-convert {\n",
              "      background-color: #3B4455;\n",
              "      fill: #D2E3FC;\n",
              "    }\n",
              "\n",
              "    [theme=dark] .colab-df-convert:hover {\n",
              "      background-color: #434B5C;\n",
              "      box-shadow: 0px 1px 3px 1px rgba(0, 0, 0, 0.15);\n",
              "      filter: drop-shadow(0px 1px 2px rgba(0, 0, 0, 0.3));\n",
              "      fill: #FFFFFF;\n",
              "    }\n",
              "  </style>\n",
              "\n",
              "      <script>\n",
              "        const buttonEl =\n",
              "          document.querySelector('#df-4ccf39c1-bafc-4de8-9fc2-059b99b13794 button.colab-df-convert');\n",
              "        buttonEl.style.display =\n",
              "          google.colab.kernel.accessAllowed ? 'block' : 'none';\n",
              "\n",
              "        async function convertToInteractive(key) {\n",
              "          const element = document.querySelector('#df-4ccf39c1-bafc-4de8-9fc2-059b99b13794');\n",
              "          const dataTable =\n",
              "            await google.colab.kernel.invokeFunction('convertToInteractive',\n",
              "                                                     [key], {});\n",
              "          if (!dataTable) return;\n",
              "\n",
              "          const docLinkHtml = 'Like what you see? Visit the ' +\n",
              "            '<a target=\"_blank\" href=https://colab.research.google.com/notebooks/data_table.ipynb>data table notebook</a>'\n",
              "            + ' to learn more about interactive tables.';\n",
              "          element.innerHTML = '';\n",
              "          dataTable['output_type'] = 'display_data';\n",
              "          await google.colab.output.renderOutput(dataTable, element);\n",
              "          const docLink = document.createElement('div');\n",
              "          docLink.innerHTML = docLinkHtml;\n",
              "          element.appendChild(docLink);\n",
              "        }\n",
              "      </script>\n",
              "    </div>\n",
              "  </div>\n",
              "  "
            ]
          },
          "metadata": {},
          "execution_count": 434
        }
      ]
    },
    {
      "cell_type": "code",
      "source": [],
      "metadata": {
        "id": "oX6Giyl10BGl"
      },
      "execution_count": null,
      "outputs": []
    },
    {
      "cell_type": "code",
      "source": [
        "df.drop(['Target'],axis=1,inplace=True)"
      ],
      "metadata": {
        "id": "SQO3itAHi27N"
      },
      "execution_count": 515,
      "outputs": []
    },
    {
      "cell_type": "code",
      "source": [
        "X=df[['age', 'job', 'marital', 'education_qual', 'day', 'mon','dur', 'num_calls', 'prev_outcome','call_type']].values\n",
        "y=df['y'].values"
      ],
      "metadata": {
        "id": "KDEvd8y-r_sa"
      },
      "execution_count": 518,
      "outputs": []
    },
    {
      "cell_type": "code",
      "source": [
        "X\n"
      ],
      "metadata": {
        "colab": {
          "base_uri": "https://localhost:8080/"
        },
        "id": "yJXEyv2rsYAM",
        "outputId": "e563658d-d8ab-4f97-b60f-9d5c0a160e95"
      },
      "execution_count": 519,
      "outputs": [
        {
          "output_type": "execute_result",
          "data": {
            "text/plain": [
              "array([[58.,  3.,  2., ...,  1.,  3.,  0.],\n",
              "       [44.,  6.,  0., ...,  1.,  3.,  0.],\n",
              "       [33.,  9.,  2., ...,  1.,  3.,  0.],\n",
              "       ...,\n",
              "       [72.,  1.,  2., ...,  5.,  0.,  2.],\n",
              "       [57., 10.,  2., ...,  4.,  3.,  1.],\n",
              "       [37.,  9.,  2., ...,  2.,  1.,  2.]])"
            ]
          },
          "metadata": {},
          "execution_count": 519
        }
      ]
    },
    {
      "cell_type": "code",
      "source": [
        "# X=pd.get_dummies(X, prefix=[ 'job', 'marital', 'education_qual', 'prev_outcome','call_type','mon'])\n",
        "# X"
      ],
      "metadata": {
        "id": "i8g1qCnL_QFo",
        "colab": {
          "base_uri": "https://localhost:8080/",
          "height": 505
        },
        "outputId": "f79ca407-599a-45d6-eb7c-28fcf7bd463f"
      },
      "execution_count": 438,
      "outputs": [
        {
          "output_type": "execute_result",
          "data": {
            "text/plain": [
              "        age  day          dur  num_calls  job_admin.  job_blue-collar  \\\n",
              "0      58.0    5   261.000000        1.0           0                0   \n",
              "1      44.0    5   151.000000        1.0           0                0   \n",
              "2      33.0    5    76.000000        1.0           0                0   \n",
              "3      47.0    5    92.000000        1.0           0                1   \n",
              "4      33.0    5   198.000000        1.0           0                1   \n",
              "...     ...  ...          ...        ...         ...              ...   \n",
              "45206  51.0   17   977.000000        3.0           0                0   \n",
              "45207  71.0   17   456.000000        2.0           0                0   \n",
              "45208  72.0   17  1030.746517        5.0           0                0   \n",
              "45209  57.0   17   508.000000        4.0           0                1   \n",
              "45210  37.0   17   361.000000        2.0           0                0   \n",
              "\n",
              "       job_entrepreneur  job_housemaid  job_management  job_retired  ...  \\\n",
              "0                     0              0               1            0  ...   \n",
              "1                     0              0               0            0  ...   \n",
              "2                     1              0               0            0  ...   \n",
              "3                     0              0               0            0  ...   \n",
              "4                     0              0               0            0  ...   \n",
              "...                 ...            ...             ...          ...  ...   \n",
              "45206                 0              0               0            0  ...   \n",
              "45207                 0              0               0            1  ...   \n",
              "45208                 0              0               0            1  ...   \n",
              "45209                 0              0               0            0  ...   \n",
              "45210                 1              0               0            0  ...   \n",
              "\n",
              "       prev_outcome_nov  prev_outcome_oct  prev_outcome_sep  \\\n",
              "0                     0                 0                 0   \n",
              "1                     0                 0                 0   \n",
              "2                     0                 0                 0   \n",
              "3                     0                 0                 0   \n",
              "4                     0                 0                 0   \n",
              "...                 ...               ...               ...   \n",
              "45206                 1                 0                 0   \n",
              "45207                 1                 0                 0   \n",
              "45208                 1                 0                 0   \n",
              "45209                 1                 0                 0   \n",
              "45210                 1                 0                 0   \n",
              "\n",
              "       call_type_failure  call_type_other  call_type_success  \\\n",
              "0                      0                0                  0   \n",
              "1                      0                0                  0   \n",
              "2                      0                0                  0   \n",
              "3                      0                0                  0   \n",
              "4                      0                0                  0   \n",
              "...                  ...              ...                ...   \n",
              "45206                  0                0                  0   \n",
              "45207                  0                0                  0   \n",
              "45208                  0                0                  1   \n",
              "45209                  0                0                  0   \n",
              "45210                  0                1                  0   \n",
              "\n",
              "       call_type_unknown  mon_cellular  mon_telephone  mon_unknown  \n",
              "0                      1             0              0            1  \n",
              "1                      1             0              0            1  \n",
              "2                      1             0              0            1  \n",
              "3                      1             0              0            1  \n",
              "4                      1             0              0            1  \n",
              "...                  ...           ...            ...          ...  \n",
              "45206                  1             1              0            0  \n",
              "45207                  1             1              0            0  \n",
              "45208                  0             1              0            0  \n",
              "45209                  1             0              1            0  \n",
              "45210                  0             1              0            0  \n",
              "\n",
              "[45211 rows x 40 columns]"
            ],
            "text/html": [
              "\n",
              "  <div id=\"df-c6a95c23-206a-438e-92f0-bf6438954d82\">\n",
              "    <div class=\"colab-df-container\">\n",
              "      <div>\n",
              "<style scoped>\n",
              "    .dataframe tbody tr th:only-of-type {\n",
              "        vertical-align: middle;\n",
              "    }\n",
              "\n",
              "    .dataframe tbody tr th {\n",
              "        vertical-align: top;\n",
              "    }\n",
              "\n",
              "    .dataframe thead th {\n",
              "        text-align: right;\n",
              "    }\n",
              "</style>\n",
              "<table border=\"1\" class=\"dataframe\">\n",
              "  <thead>\n",
              "    <tr style=\"text-align: right;\">\n",
              "      <th></th>\n",
              "      <th>age</th>\n",
              "      <th>day</th>\n",
              "      <th>dur</th>\n",
              "      <th>num_calls</th>\n",
              "      <th>job_admin.</th>\n",
              "      <th>job_blue-collar</th>\n",
              "      <th>job_entrepreneur</th>\n",
              "      <th>job_housemaid</th>\n",
              "      <th>job_management</th>\n",
              "      <th>job_retired</th>\n",
              "      <th>...</th>\n",
              "      <th>prev_outcome_nov</th>\n",
              "      <th>prev_outcome_oct</th>\n",
              "      <th>prev_outcome_sep</th>\n",
              "      <th>call_type_failure</th>\n",
              "      <th>call_type_other</th>\n",
              "      <th>call_type_success</th>\n",
              "      <th>call_type_unknown</th>\n",
              "      <th>mon_cellular</th>\n",
              "      <th>mon_telephone</th>\n",
              "      <th>mon_unknown</th>\n",
              "    </tr>\n",
              "  </thead>\n",
              "  <tbody>\n",
              "    <tr>\n",
              "      <th>0</th>\n",
              "      <td>58.0</td>\n",
              "      <td>5</td>\n",
              "      <td>261.000000</td>\n",
              "      <td>1.0</td>\n",
              "      <td>0</td>\n",
              "      <td>0</td>\n",
              "      <td>0</td>\n",
              "      <td>0</td>\n",
              "      <td>1</td>\n",
              "      <td>0</td>\n",
              "      <td>...</td>\n",
              "      <td>0</td>\n",
              "      <td>0</td>\n",
              "      <td>0</td>\n",
              "      <td>0</td>\n",
              "      <td>0</td>\n",
              "      <td>0</td>\n",
              "      <td>1</td>\n",
              "      <td>0</td>\n",
              "      <td>0</td>\n",
              "      <td>1</td>\n",
              "    </tr>\n",
              "    <tr>\n",
              "      <th>1</th>\n",
              "      <td>44.0</td>\n",
              "      <td>5</td>\n",
              "      <td>151.000000</td>\n",
              "      <td>1.0</td>\n",
              "      <td>0</td>\n",
              "      <td>0</td>\n",
              "      <td>0</td>\n",
              "      <td>0</td>\n",
              "      <td>0</td>\n",
              "      <td>0</td>\n",
              "      <td>...</td>\n",
              "      <td>0</td>\n",
              "      <td>0</td>\n",
              "      <td>0</td>\n",
              "      <td>0</td>\n",
              "      <td>0</td>\n",
              "      <td>0</td>\n",
              "      <td>1</td>\n",
              "      <td>0</td>\n",
              "      <td>0</td>\n",
              "      <td>1</td>\n",
              "    </tr>\n",
              "    <tr>\n",
              "      <th>2</th>\n",
              "      <td>33.0</td>\n",
              "      <td>5</td>\n",
              "      <td>76.000000</td>\n",
              "      <td>1.0</td>\n",
              "      <td>0</td>\n",
              "      <td>0</td>\n",
              "      <td>1</td>\n",
              "      <td>0</td>\n",
              "      <td>0</td>\n",
              "      <td>0</td>\n",
              "      <td>...</td>\n",
              "      <td>0</td>\n",
              "      <td>0</td>\n",
              "      <td>0</td>\n",
              "      <td>0</td>\n",
              "      <td>0</td>\n",
              "      <td>0</td>\n",
              "      <td>1</td>\n",
              "      <td>0</td>\n",
              "      <td>0</td>\n",
              "      <td>1</td>\n",
              "    </tr>\n",
              "    <tr>\n",
              "      <th>3</th>\n",
              "      <td>47.0</td>\n",
              "      <td>5</td>\n",
              "      <td>92.000000</td>\n",
              "      <td>1.0</td>\n",
              "      <td>0</td>\n",
              "      <td>1</td>\n",
              "      <td>0</td>\n",
              "      <td>0</td>\n",
              "      <td>0</td>\n",
              "      <td>0</td>\n",
              "      <td>...</td>\n",
              "      <td>0</td>\n",
              "      <td>0</td>\n",
              "      <td>0</td>\n",
              "      <td>0</td>\n",
              "      <td>0</td>\n",
              "      <td>0</td>\n",
              "      <td>1</td>\n",
              "      <td>0</td>\n",
              "      <td>0</td>\n",
              "      <td>1</td>\n",
              "    </tr>\n",
              "    <tr>\n",
              "      <th>4</th>\n",
              "      <td>33.0</td>\n",
              "      <td>5</td>\n",
              "      <td>198.000000</td>\n",
              "      <td>1.0</td>\n",
              "      <td>0</td>\n",
              "      <td>1</td>\n",
              "      <td>0</td>\n",
              "      <td>0</td>\n",
              "      <td>0</td>\n",
              "      <td>0</td>\n",
              "      <td>...</td>\n",
              "      <td>0</td>\n",
              "      <td>0</td>\n",
              "      <td>0</td>\n",
              "      <td>0</td>\n",
              "      <td>0</td>\n",
              "      <td>0</td>\n",
              "      <td>1</td>\n",
              "      <td>0</td>\n",
              "      <td>0</td>\n",
              "      <td>1</td>\n",
              "    </tr>\n",
              "    <tr>\n",
              "      <th>...</th>\n",
              "      <td>...</td>\n",
              "      <td>...</td>\n",
              "      <td>...</td>\n",
              "      <td>...</td>\n",
              "      <td>...</td>\n",
              "      <td>...</td>\n",
              "      <td>...</td>\n",
              "      <td>...</td>\n",
              "      <td>...</td>\n",
              "      <td>...</td>\n",
              "      <td>...</td>\n",
              "      <td>...</td>\n",
              "      <td>...</td>\n",
              "      <td>...</td>\n",
              "      <td>...</td>\n",
              "      <td>...</td>\n",
              "      <td>...</td>\n",
              "      <td>...</td>\n",
              "      <td>...</td>\n",
              "      <td>...</td>\n",
              "      <td>...</td>\n",
              "    </tr>\n",
              "    <tr>\n",
              "      <th>45206</th>\n",
              "      <td>51.0</td>\n",
              "      <td>17</td>\n",
              "      <td>977.000000</td>\n",
              "      <td>3.0</td>\n",
              "      <td>0</td>\n",
              "      <td>0</td>\n",
              "      <td>0</td>\n",
              "      <td>0</td>\n",
              "      <td>0</td>\n",
              "      <td>0</td>\n",
              "      <td>...</td>\n",
              "      <td>1</td>\n",
              "      <td>0</td>\n",
              "      <td>0</td>\n",
              "      <td>0</td>\n",
              "      <td>0</td>\n",
              "      <td>0</td>\n",
              "      <td>1</td>\n",
              "      <td>1</td>\n",
              "      <td>0</td>\n",
              "      <td>0</td>\n",
              "    </tr>\n",
              "    <tr>\n",
              "      <th>45207</th>\n",
              "      <td>71.0</td>\n",
              "      <td>17</td>\n",
              "      <td>456.000000</td>\n",
              "      <td>2.0</td>\n",
              "      <td>0</td>\n",
              "      <td>0</td>\n",
              "      <td>0</td>\n",
              "      <td>0</td>\n",
              "      <td>0</td>\n",
              "      <td>1</td>\n",
              "      <td>...</td>\n",
              "      <td>1</td>\n",
              "      <td>0</td>\n",
              "      <td>0</td>\n",
              "      <td>0</td>\n",
              "      <td>0</td>\n",
              "      <td>0</td>\n",
              "      <td>1</td>\n",
              "      <td>1</td>\n",
              "      <td>0</td>\n",
              "      <td>0</td>\n",
              "    </tr>\n",
              "    <tr>\n",
              "      <th>45208</th>\n",
              "      <td>72.0</td>\n",
              "      <td>17</td>\n",
              "      <td>1030.746517</td>\n",
              "      <td>5.0</td>\n",
              "      <td>0</td>\n",
              "      <td>0</td>\n",
              "      <td>0</td>\n",
              "      <td>0</td>\n",
              "      <td>0</td>\n",
              "      <td>1</td>\n",
              "      <td>...</td>\n",
              "      <td>1</td>\n",
              "      <td>0</td>\n",
              "      <td>0</td>\n",
              "      <td>0</td>\n",
              "      <td>0</td>\n",
              "      <td>1</td>\n",
              "      <td>0</td>\n",
              "      <td>1</td>\n",
              "      <td>0</td>\n",
              "      <td>0</td>\n",
              "    </tr>\n",
              "    <tr>\n",
              "      <th>45209</th>\n",
              "      <td>57.0</td>\n",
              "      <td>17</td>\n",
              "      <td>508.000000</td>\n",
              "      <td>4.0</td>\n",
              "      <td>0</td>\n",
              "      <td>1</td>\n",
              "      <td>0</td>\n",
              "      <td>0</td>\n",
              "      <td>0</td>\n",
              "      <td>0</td>\n",
              "      <td>...</td>\n",
              "      <td>1</td>\n",
              "      <td>0</td>\n",
              "      <td>0</td>\n",
              "      <td>0</td>\n",
              "      <td>0</td>\n",
              "      <td>0</td>\n",
              "      <td>1</td>\n",
              "      <td>0</td>\n",
              "      <td>1</td>\n",
              "      <td>0</td>\n",
              "    </tr>\n",
              "    <tr>\n",
              "      <th>45210</th>\n",
              "      <td>37.0</td>\n",
              "      <td>17</td>\n",
              "      <td>361.000000</td>\n",
              "      <td>2.0</td>\n",
              "      <td>0</td>\n",
              "      <td>0</td>\n",
              "      <td>1</td>\n",
              "      <td>0</td>\n",
              "      <td>0</td>\n",
              "      <td>0</td>\n",
              "      <td>...</td>\n",
              "      <td>1</td>\n",
              "      <td>0</td>\n",
              "      <td>0</td>\n",
              "      <td>0</td>\n",
              "      <td>1</td>\n",
              "      <td>0</td>\n",
              "      <td>0</td>\n",
              "      <td>1</td>\n",
              "      <td>0</td>\n",
              "      <td>0</td>\n",
              "    </tr>\n",
              "  </tbody>\n",
              "</table>\n",
              "<p>45211 rows × 40 columns</p>\n",
              "</div>\n",
              "      <button class=\"colab-df-convert\" onclick=\"convertToInteractive('df-c6a95c23-206a-438e-92f0-bf6438954d82')\"\n",
              "              title=\"Convert this dataframe to an interactive table.\"\n",
              "              style=\"display:none;\">\n",
              "        \n",
              "  <svg xmlns=\"http://www.w3.org/2000/svg\" height=\"24px\"viewBox=\"0 0 24 24\"\n",
              "       width=\"24px\">\n",
              "    <path d=\"M0 0h24v24H0V0z\" fill=\"none\"/>\n",
              "    <path d=\"M18.56 5.44l.94 2.06.94-2.06 2.06-.94-2.06-.94-.94-2.06-.94 2.06-2.06.94zm-11 1L8.5 8.5l.94-2.06 2.06-.94-2.06-.94L8.5 2.5l-.94 2.06-2.06.94zm10 10l.94 2.06.94-2.06 2.06-.94-2.06-.94-.94-2.06-.94 2.06-2.06.94z\"/><path d=\"M17.41 7.96l-1.37-1.37c-.4-.4-.92-.59-1.43-.59-.52 0-1.04.2-1.43.59L10.3 9.45l-7.72 7.72c-.78.78-.78 2.05 0 2.83L4 21.41c.39.39.9.59 1.41.59.51 0 1.02-.2 1.41-.59l7.78-7.78 2.81-2.81c.8-.78.8-2.07 0-2.86zM5.41 20L4 18.59l7.72-7.72 1.47 1.35L5.41 20z\"/>\n",
              "  </svg>\n",
              "      </button>\n",
              "      \n",
              "  <style>\n",
              "    .colab-df-container {\n",
              "      display:flex;\n",
              "      flex-wrap:wrap;\n",
              "      gap: 12px;\n",
              "    }\n",
              "\n",
              "    .colab-df-convert {\n",
              "      background-color: #E8F0FE;\n",
              "      border: none;\n",
              "      border-radius: 50%;\n",
              "      cursor: pointer;\n",
              "      display: none;\n",
              "      fill: #1967D2;\n",
              "      height: 32px;\n",
              "      padding: 0 0 0 0;\n",
              "      width: 32px;\n",
              "    }\n",
              "\n",
              "    .colab-df-convert:hover {\n",
              "      background-color: #E2EBFA;\n",
              "      box-shadow: 0px 1px 2px rgba(60, 64, 67, 0.3), 0px 1px 3px 1px rgba(60, 64, 67, 0.15);\n",
              "      fill: #174EA6;\n",
              "    }\n",
              "\n",
              "    [theme=dark] .colab-df-convert {\n",
              "      background-color: #3B4455;\n",
              "      fill: #D2E3FC;\n",
              "    }\n",
              "\n",
              "    [theme=dark] .colab-df-convert:hover {\n",
              "      background-color: #434B5C;\n",
              "      box-shadow: 0px 1px 3px 1px rgba(0, 0, 0, 0.15);\n",
              "      filter: drop-shadow(0px 1px 2px rgba(0, 0, 0, 0.3));\n",
              "      fill: #FFFFFF;\n",
              "    }\n",
              "  </style>\n",
              "\n",
              "      <script>\n",
              "        const buttonEl =\n",
              "          document.querySelector('#df-c6a95c23-206a-438e-92f0-bf6438954d82 button.colab-df-convert');\n",
              "        buttonEl.style.display =\n",
              "          google.colab.kernel.accessAllowed ? 'block' : 'none';\n",
              "\n",
              "        async function convertToInteractive(key) {\n",
              "          const element = document.querySelector('#df-c6a95c23-206a-438e-92f0-bf6438954d82');\n",
              "          const dataTable =\n",
              "            await google.colab.kernel.invokeFunction('convertToInteractive',\n",
              "                                                     [key], {});\n",
              "          if (!dataTable) return;\n",
              "\n",
              "          const docLinkHtml = 'Like what you see? Visit the ' +\n",
              "            '<a target=\"_blank\" href=https://colab.research.google.com/notebooks/data_table.ipynb>data table notebook</a>'\n",
              "            + ' to learn more about interactive tables.';\n",
              "          element.innerHTML = '';\n",
              "          dataTable['output_type'] = 'display_data';\n",
              "          await google.colab.output.renderOutput(dataTable, element);\n",
              "          const docLink = document.createElement('div');\n",
              "          docLink.innerHTML = docLinkHtml;\n",
              "          element.appendChild(docLink);\n",
              "        }\n",
              "      </script>\n",
              "    </div>\n",
              "  </div>\n",
              "  "
            ]
          },
          "metadata": {},
          "execution_count": 438
        }
      ]
    },
    {
      "cell_type": "code",
      "source": [
        "X=X.values"
      ],
      "metadata": {
        "id": "_hyvlhG4hWfv"
      },
      "execution_count": 439,
      "outputs": []
    },
    {
      "cell_type": "code",
      "source": [
        "X"
      ],
      "metadata": {
        "colab": {
          "base_uri": "https://localhost:8080/"
        },
        "id": "85lWmxE5hd0O",
        "outputId": "0ff1eca9-5536-4566-cf50-4fd3a74ec8ff"
      },
      "execution_count": 440,
      "outputs": [
        {
          "output_type": "execute_result",
          "data": {
            "text/plain": [
              "array([[5.80000000e+01, 5.00000000e+00, 2.61000000e+02, ...,\n",
              "        0.00000000e+00, 0.00000000e+00, 1.00000000e+00],\n",
              "       [4.40000000e+01, 5.00000000e+00, 1.51000000e+02, ...,\n",
              "        0.00000000e+00, 0.00000000e+00, 1.00000000e+00],\n",
              "       [3.30000000e+01, 5.00000000e+00, 7.60000000e+01, ...,\n",
              "        0.00000000e+00, 0.00000000e+00, 1.00000000e+00],\n",
              "       ...,\n",
              "       [7.20000000e+01, 1.70000000e+01, 1.03074652e+03, ...,\n",
              "        1.00000000e+00, 0.00000000e+00, 0.00000000e+00],\n",
              "       [5.70000000e+01, 1.70000000e+01, 5.08000000e+02, ...,\n",
              "        0.00000000e+00, 1.00000000e+00, 0.00000000e+00],\n",
              "       [3.70000000e+01, 1.70000000e+01, 3.61000000e+02, ...,\n",
              "        1.00000000e+00, 0.00000000e+00, 0.00000000e+00]])"
            ]
          },
          "metadata": {},
          "execution_count": 440
        }
      ]
    },
    {
      "cell_type": "code",
      "source": [
        "df"
      ],
      "metadata": {
        "id": "rfDjF6VgT_Ms",
        "colab": {
          "base_uri": "https://localhost:8080/",
          "height": 423
        },
        "outputId": "17bc0e1f-6bdf-4318-c997-72c5e49adc0c"
      },
      "execution_count": null,
      "outputs": [
        {
          "output_type": "execute_result",
          "data": {
            "text/plain": [
              "       age  job  marital  education_qual  day  mon          dur  num_calls  \\\n",
              "0       58    3        2               1    5    5   261.000000        1.0   \n",
              "1       44    6        0               2    5    5   151.000000        1.0   \n",
              "2       33    9        2               2    5    5    76.000000        1.0   \n",
              "3       47   10        2               2    5    5    92.000000        1.0   \n",
              "4       33   10        0               2    5    5   198.000000        1.0   \n",
              "...    ...  ...      ...             ...  ...  ...          ...        ...   \n",
              "45206   51    6        2               1   17   11   977.000000        3.0   \n",
              "45207   71    1        1               0   17   11   456.000000        2.0   \n",
              "45208   72    1        2               2   17   11  1030.746517        5.0   \n",
              "45209   57   10        2               2   17   11   508.000000        4.0   \n",
              "45210   37    9        2               2   17   11   361.000000        2.0   \n",
              "\n",
              "       prev_outcome  y  Target  \n",
              "0                 3  0       0  \n",
              "1                 3  0       0  \n",
              "2                 3  0       0  \n",
              "3                 3  0       0  \n",
              "4                 3  0       0  \n",
              "...             ... ..     ...  \n",
              "45206             3  1       1  \n",
              "45207             3  1       1  \n",
              "45208             0  1       1  \n",
              "45209             3  0       0  \n",
              "45210             1  0       0  \n",
              "\n",
              "[45211 rows x 11 columns]"
            ],
            "text/html": [
              "\n",
              "  <div id=\"df-f084d35e-1535-458d-8e51-a5e8f68e412e\">\n",
              "    <div class=\"colab-df-container\">\n",
              "      <div>\n",
              "<style scoped>\n",
              "    .dataframe tbody tr th:only-of-type {\n",
              "        vertical-align: middle;\n",
              "    }\n",
              "\n",
              "    .dataframe tbody tr th {\n",
              "        vertical-align: top;\n",
              "    }\n",
              "\n",
              "    .dataframe thead th {\n",
              "        text-align: right;\n",
              "    }\n",
              "</style>\n",
              "<table border=\"1\" class=\"dataframe\">\n",
              "  <thead>\n",
              "    <tr style=\"text-align: right;\">\n",
              "      <th></th>\n",
              "      <th>age</th>\n",
              "      <th>job</th>\n",
              "      <th>marital</th>\n",
              "      <th>education_qual</th>\n",
              "      <th>day</th>\n",
              "      <th>mon</th>\n",
              "      <th>dur</th>\n",
              "      <th>num_calls</th>\n",
              "      <th>prev_outcome</th>\n",
              "      <th>y</th>\n",
              "      <th>Target</th>\n",
              "    </tr>\n",
              "  </thead>\n",
              "  <tbody>\n",
              "    <tr>\n",
              "      <th>0</th>\n",
              "      <td>58</td>\n",
              "      <td>3</td>\n",
              "      <td>2</td>\n",
              "      <td>1</td>\n",
              "      <td>5</td>\n",
              "      <td>5</td>\n",
              "      <td>261.000000</td>\n",
              "      <td>1.0</td>\n",
              "      <td>3</td>\n",
              "      <td>0</td>\n",
              "      <td>0</td>\n",
              "    </tr>\n",
              "    <tr>\n",
              "      <th>1</th>\n",
              "      <td>44</td>\n",
              "      <td>6</td>\n",
              "      <td>0</td>\n",
              "      <td>2</td>\n",
              "      <td>5</td>\n",
              "      <td>5</td>\n",
              "      <td>151.000000</td>\n",
              "      <td>1.0</td>\n",
              "      <td>3</td>\n",
              "      <td>0</td>\n",
              "      <td>0</td>\n",
              "    </tr>\n",
              "    <tr>\n",
              "      <th>2</th>\n",
              "      <td>33</td>\n",
              "      <td>9</td>\n",
              "      <td>2</td>\n",
              "      <td>2</td>\n",
              "      <td>5</td>\n",
              "      <td>5</td>\n",
              "      <td>76.000000</td>\n",
              "      <td>1.0</td>\n",
              "      <td>3</td>\n",
              "      <td>0</td>\n",
              "      <td>0</td>\n",
              "    </tr>\n",
              "    <tr>\n",
              "      <th>3</th>\n",
              "      <td>47</td>\n",
              "      <td>10</td>\n",
              "      <td>2</td>\n",
              "      <td>2</td>\n",
              "      <td>5</td>\n",
              "      <td>5</td>\n",
              "      <td>92.000000</td>\n",
              "      <td>1.0</td>\n",
              "      <td>3</td>\n",
              "      <td>0</td>\n",
              "      <td>0</td>\n",
              "    </tr>\n",
              "    <tr>\n",
              "      <th>4</th>\n",
              "      <td>33</td>\n",
              "      <td>10</td>\n",
              "      <td>0</td>\n",
              "      <td>2</td>\n",
              "      <td>5</td>\n",
              "      <td>5</td>\n",
              "      <td>198.000000</td>\n",
              "      <td>1.0</td>\n",
              "      <td>3</td>\n",
              "      <td>0</td>\n",
              "      <td>0</td>\n",
              "    </tr>\n",
              "    <tr>\n",
              "      <th>...</th>\n",
              "      <td>...</td>\n",
              "      <td>...</td>\n",
              "      <td>...</td>\n",
              "      <td>...</td>\n",
              "      <td>...</td>\n",
              "      <td>...</td>\n",
              "      <td>...</td>\n",
              "      <td>...</td>\n",
              "      <td>...</td>\n",
              "      <td>...</td>\n",
              "      <td>...</td>\n",
              "    </tr>\n",
              "    <tr>\n",
              "      <th>45206</th>\n",
              "      <td>51</td>\n",
              "      <td>6</td>\n",
              "      <td>2</td>\n",
              "      <td>1</td>\n",
              "      <td>17</td>\n",
              "      <td>11</td>\n",
              "      <td>977.000000</td>\n",
              "      <td>3.0</td>\n",
              "      <td>3</td>\n",
              "      <td>1</td>\n",
              "      <td>1</td>\n",
              "    </tr>\n",
              "    <tr>\n",
              "      <th>45207</th>\n",
              "      <td>71</td>\n",
              "      <td>1</td>\n",
              "      <td>1</td>\n",
              "      <td>0</td>\n",
              "      <td>17</td>\n",
              "      <td>11</td>\n",
              "      <td>456.000000</td>\n",
              "      <td>2.0</td>\n",
              "      <td>3</td>\n",
              "      <td>1</td>\n",
              "      <td>1</td>\n",
              "    </tr>\n",
              "    <tr>\n",
              "      <th>45208</th>\n",
              "      <td>72</td>\n",
              "      <td>1</td>\n",
              "      <td>2</td>\n",
              "      <td>2</td>\n",
              "      <td>17</td>\n",
              "      <td>11</td>\n",
              "      <td>1030.746517</td>\n",
              "      <td>5.0</td>\n",
              "      <td>0</td>\n",
              "      <td>1</td>\n",
              "      <td>1</td>\n",
              "    </tr>\n",
              "    <tr>\n",
              "      <th>45209</th>\n",
              "      <td>57</td>\n",
              "      <td>10</td>\n",
              "      <td>2</td>\n",
              "      <td>2</td>\n",
              "      <td>17</td>\n",
              "      <td>11</td>\n",
              "      <td>508.000000</td>\n",
              "      <td>4.0</td>\n",
              "      <td>3</td>\n",
              "      <td>0</td>\n",
              "      <td>0</td>\n",
              "    </tr>\n",
              "    <tr>\n",
              "      <th>45210</th>\n",
              "      <td>37</td>\n",
              "      <td>9</td>\n",
              "      <td>2</td>\n",
              "      <td>2</td>\n",
              "      <td>17</td>\n",
              "      <td>11</td>\n",
              "      <td>361.000000</td>\n",
              "      <td>2.0</td>\n",
              "      <td>1</td>\n",
              "      <td>0</td>\n",
              "      <td>0</td>\n",
              "    </tr>\n",
              "  </tbody>\n",
              "</table>\n",
              "<p>45211 rows × 11 columns</p>\n",
              "</div>\n",
              "      <button class=\"colab-df-convert\" onclick=\"convertToInteractive('df-f084d35e-1535-458d-8e51-a5e8f68e412e')\"\n",
              "              title=\"Convert this dataframe to an interactive table.\"\n",
              "              style=\"display:none;\">\n",
              "        \n",
              "  <svg xmlns=\"http://www.w3.org/2000/svg\" height=\"24px\"viewBox=\"0 0 24 24\"\n",
              "       width=\"24px\">\n",
              "    <path d=\"M0 0h24v24H0V0z\" fill=\"none\"/>\n",
              "    <path d=\"M18.56 5.44l.94 2.06.94-2.06 2.06-.94-2.06-.94-.94-2.06-.94 2.06-2.06.94zm-11 1L8.5 8.5l.94-2.06 2.06-.94-2.06-.94L8.5 2.5l-.94 2.06-2.06.94zm10 10l.94 2.06.94-2.06 2.06-.94-2.06-.94-.94-2.06-.94 2.06-2.06.94z\"/><path d=\"M17.41 7.96l-1.37-1.37c-.4-.4-.92-.59-1.43-.59-.52 0-1.04.2-1.43.59L10.3 9.45l-7.72 7.72c-.78.78-.78 2.05 0 2.83L4 21.41c.39.39.9.59 1.41.59.51 0 1.02-.2 1.41-.59l7.78-7.78 2.81-2.81c.8-.78.8-2.07 0-2.86zM5.41 20L4 18.59l7.72-7.72 1.47 1.35L5.41 20z\"/>\n",
              "  </svg>\n",
              "      </button>\n",
              "      \n",
              "  <style>\n",
              "    .colab-df-container {\n",
              "      display:flex;\n",
              "      flex-wrap:wrap;\n",
              "      gap: 12px;\n",
              "    }\n",
              "\n",
              "    .colab-df-convert {\n",
              "      background-color: #E8F0FE;\n",
              "      border: none;\n",
              "      border-radius: 50%;\n",
              "      cursor: pointer;\n",
              "      display: none;\n",
              "      fill: #1967D2;\n",
              "      height: 32px;\n",
              "      padding: 0 0 0 0;\n",
              "      width: 32px;\n",
              "    }\n",
              "\n",
              "    .colab-df-convert:hover {\n",
              "      background-color: #E2EBFA;\n",
              "      box-shadow: 0px 1px 2px rgba(60, 64, 67, 0.3), 0px 1px 3px 1px rgba(60, 64, 67, 0.15);\n",
              "      fill: #174EA6;\n",
              "    }\n",
              "\n",
              "    [theme=dark] .colab-df-convert {\n",
              "      background-color: #3B4455;\n",
              "      fill: #D2E3FC;\n",
              "    }\n",
              "\n",
              "    [theme=dark] .colab-df-convert:hover {\n",
              "      background-color: #434B5C;\n",
              "      box-shadow: 0px 1px 3px 1px rgba(0, 0, 0, 0.15);\n",
              "      filter: drop-shadow(0px 1px 2px rgba(0, 0, 0, 0.3));\n",
              "      fill: #FFFFFF;\n",
              "    }\n",
              "  </style>\n",
              "\n",
              "      <script>\n",
              "        const buttonEl =\n",
              "          document.querySelector('#df-f084d35e-1535-458d-8e51-a5e8f68e412e button.colab-df-convert');\n",
              "        buttonEl.style.display =\n",
              "          google.colab.kernel.accessAllowed ? 'block' : 'none';\n",
              "\n",
              "        async function convertToInteractive(key) {\n",
              "          const element = document.querySelector('#df-f084d35e-1535-458d-8e51-a5e8f68e412e');\n",
              "          const dataTable =\n",
              "            await google.colab.kernel.invokeFunction('convertToInteractive',\n",
              "                                                     [key], {});\n",
              "          if (!dataTable) return;\n",
              "\n",
              "          const docLinkHtml = 'Like what you see? Visit the ' +\n",
              "            '<a target=\"_blank\" href=https://colab.research.google.com/notebooks/data_table.ipynb>data table notebook</a>'\n",
              "            + ' to learn more about interactive tables.';\n",
              "          element.innerHTML = '';\n",
              "          dataTable['output_type'] = 'display_data';\n",
              "          await google.colab.output.renderOutput(dataTable, element);\n",
              "          const docLink = document.createElement('div');\n",
              "          docLink.innerHTML = docLinkHtml;\n",
              "          element.appendChild(docLink);\n",
              "        }\n",
              "      </script>\n",
              "    </div>\n",
              "  </div>\n",
              "  "
            ]
          },
          "metadata": {},
          "execution_count": 218
        }
      ]
    },
    {
      "cell_type": "code",
      "source": [
        "# df.drop('call_type',axis=1,inplace=True)\n"
      ],
      "metadata": {
        "id": "BIbOjvpFGEWC"
      },
      "execution_count": null,
      "outputs": []
    },
    {
      "cell_type": "code",
      "source": [
        "from sklearn.model_selection import train_test_split\n",
        "X_train,X_test,y_train,y_test=train_test_split(X,y,test_size=0.3,random_state=21)\n",
        "print('X_train : ',X_train.shape,'\\nX_test : ',X_test.shape,'\\ny_train : ',y_train.shape, '\\ny_test : ',y_test.shape  )"
      ],
      "metadata": {
        "colab": {
          "base_uri": "https://localhost:8080/"
        },
        "id": "QRW5OVgnrTM0",
        "outputId": "c324ad70-5a25-486d-b774-d78186627398"
      },
      "execution_count": 520,
      "outputs": [
        {
          "output_type": "stream",
          "name": "stdout",
          "text": [
            "X_train :  (31647, 10) \n",
            "X_test :  (13564, 10) \n",
            "y_train :  (31647,) \n",
            "y_test :  (13564,)\n"
          ]
        }
      ]
    },
    {
      "cell_type": "code",
      "source": [
        "X_train"
      ],
      "metadata": {
        "colab": {
          "base_uri": "https://localhost:8080/"
        },
        "id": "6r6c2A7Q9vZ1",
        "outputId": "f99a0868-a527-43ad-ccff-aa504db13c9b"
      },
      "execution_count": 521,
      "outputs": [
        {
          "output_type": "execute_result",
          "data": {
            "text/plain": [
              "array([[32.        , 10.        ,  2.        , ...,  2.        ,\n",
              "         3.        ,  0.        ],\n",
              "       [58.        ,  9.        ,  2.        , ...,  2.        ,\n",
              "         3.        ,  2.        ],\n",
              "       [55.        , 10.        ,  2.        , ...,  3.        ,\n",
              "         3.        ,  0.        ],\n",
              "       ...,\n",
              "       [30.        ,  2.        ,  0.        , ..., 12.05790331,\n",
              "         3.        ,  0.        ],\n",
              "       [28.        ,  6.        ,  0.        , ...,  5.        ,\n",
              "         3.        ,  0.        ],\n",
              "       [52.        ,  6.        ,  2.        , ...,  2.        ,\n",
              "         3.        ,  2.        ]])"
            ]
          },
          "metadata": {},
          "execution_count": 521
        }
      ]
    },
    {
      "cell_type": "code",
      "source": [
        "y_train"
      ],
      "metadata": {
        "colab": {
          "base_uri": "https://localhost:8080/"
        },
        "id": "ov_N5ZY4IJRn",
        "outputId": "cd95b6ea-a53c-4776-9649-78ccdd832418"
      },
      "execution_count": 522,
      "outputs": [
        {
          "output_type": "execute_result",
          "data": {
            "text/plain": [
              "array([0, 0, 0, ..., 0, 0, 0])"
            ]
          },
          "metadata": {},
          "execution_count": 522
        }
      ]
    },
    {
      "cell_type": "code",
      "source": [
        "from sklearn.preprocessing import StandardScaler\n",
        "sc=StandardScaler()\n",
        "X_train=sc.fit_transform(X_train)\n",
        "X_test=sc.transform(X_test)"
      ],
      "metadata": {
        "id": "Pol2aNBseAMM"
      },
      "execution_count": 523,
      "outputs": []
    },
    {
      "cell_type": "code",
      "source": [
        "y_train"
      ],
      "metadata": {
        "colab": {
          "base_uri": "https://localhost:8080/"
        },
        "id": "xJ4aLmr9gU3t",
        "outputId": "2659f55a-efab-4318-c31b-e1ac4502d8a9"
      },
      "execution_count": 381,
      "outputs": [
        {
          "output_type": "execute_result",
          "data": {
            "text/plain": [
              "array([0, 0, 0, ..., 0, 0, 0])"
            ]
          },
          "metadata": {},
          "execution_count": 381
        }
      ]
    },
    {
      "cell_type": "code",
      "source": [
        "from imblearn.over_sampling import SMOTE\n",
        "sm = SMOTE(random_state=2)\n",
        "X_train_res, y_train_res = sm.fit_resample(X_train, y_train.ravel())\n",
        "\n",
        "print('After OverSampling, the shape of train_X: {}'.format(X_train_res.shape))\n",
        "print('After OverSampling, the shape of train_y: {} \\n'.format(y_train_res.shape))\n",
        "\n",
        "print(\"After OverSampling, counts of label '1': {}\".format(sum(y_train_res==1)))\n",
        "print(\"After OverSampling, counts of label '0': {}\".format(sum(y_train_res==0)))"
      ],
      "metadata": {
        "colab": {
          "base_uri": "https://localhost:8080/"
        },
        "id": "Mwb7t7EFEvHX",
        "outputId": "00eb9f9d-ceb0-4523-85ff-9c5818178dea"
      },
      "execution_count": 524,
      "outputs": [
        {
          "output_type": "stream",
          "name": "stdout",
          "text": [
            "After OverSampling, the shape of train_X: (55828, 10)\n",
            "After OverSampling, the shape of train_y: (55828,) \n",
            "\n",
            "After OverSampling, counts of label '1': 27914\n",
            "After OverSampling, counts of label '0': 27914\n"
          ]
        }
      ]
    },
    {
      "cell_type": "code",
      "source": [
        "# from sklearn.preprocessing import StandardScaler\n",
        "# sc=StandardScaler()\n",
        "# X_train_res=sc.fit_transform(X_train_res)\n",
        "# X_test=sc.transform(X_test)"
      ],
      "metadata": {
        "id": "yXZy0NSnn-9B"
      },
      "execution_count": 383,
      "outputs": []
    },
    {
      "cell_type": "code",
      "source": [
        "y_train_res\n",
        " "
      ],
      "metadata": {
        "colab": {
          "base_uri": "https://localhost:8080/"
        },
        "id": "5n6mTPQXggds",
        "outputId": "d5ef4bbf-466d-49e3-a9a8-15292e92876d"
      },
      "execution_count": 525,
      "outputs": [
        {
          "output_type": "execute_result",
          "data": {
            "text/plain": [
              "array([0, 0, 0, ..., 1, 1, 1])"
            ]
          },
          "metadata": {},
          "execution_count": 525
        }
      ]
    },
    {
      "cell_type": "code",
      "source": [
        "X_train_res[29]"
      ],
      "metadata": {
        "id": "pXk7BpGTZu6U",
        "colab": {
          "base_uri": "https://localhost:8080/"
        },
        "outputId": "82eab4ca-0bd7-4f0a-9204-71a0f324b127"
      },
      "execution_count": 526,
      "outputs": [
        {
          "output_type": "execute_result",
          "data": {
            "text/plain": [
              "array([ 0.38757435,  1.09944105, -0.36037255,  0.81277983,  0.5004813 ,\n",
              "        0.22575749, -0.4247379 , -0.70381601,  0.41533437,  0.71290398])"
            ]
          },
          "metadata": {},
          "execution_count": 526
        }
      ]
    },
    {
      "cell_type": "code",
      "source": [
        "y_train_res[29]"
      ],
      "metadata": {
        "colab": {
          "base_uri": "https://localhost:8080/"
        },
        "id": "UciOXTpO9bTD",
        "outputId": "388f5db9-a831-4266-bdb9-dda753a1470a"
      },
      "execution_count": 527,
      "outputs": [
        {
          "output_type": "execute_result",
          "data": {
            "text/plain": [
              "0"
            ]
          },
          "metadata": {},
          "execution_count": 527
        }
      ]
    },
    {
      "cell_type": "code",
      "source": [],
      "metadata": {
        "id": "vVGErQTKHIhm"
      },
      "execution_count": 527,
      "outputs": []
    },
    {
      "cell_type": "code",
      "source": [
        "X_train[29]"
      ],
      "metadata": {
        "id": "301DfT1zHIfj",
        "colab": {
          "base_uri": "https://localhost:8080/"
        },
        "outputId": "1b24accf-9467-46f2-8147-b446c7502233"
      },
      "execution_count": 528,
      "outputs": [
        {
          "output_type": "execute_result",
          "data": {
            "text/plain": [
              "array([ 0.38757435,  1.09944105, -0.36037255,  0.81277983,  0.5004813 ,\n",
              "        0.22575749, -0.4247379 , -0.70381601,  0.41533437,  0.71290398])"
            ]
          },
          "metadata": {},
          "execution_count": 528
        }
      ]
    },
    {
      "cell_type": "code",
      "source": [
        "from sklearn.linear_model import LogisticRegression\n",
        "\n",
        "model=LogisticRegression()\n",
        "model.fit(X_train_res,y_train_res)"
      ],
      "metadata": {
        "id": "X3cGL66JHIdJ",
        "colab": {
          "base_uri": "https://localhost:8080/"
        },
        "outputId": "61fc3f8d-476c-4181-ca68-b96fb2ebccf5"
      },
      "execution_count": 529,
      "outputs": [
        {
          "output_type": "execute_result",
          "data": {
            "text/plain": [
              "LogisticRegression()"
            ]
          },
          "metadata": {},
          "execution_count": 529
        }
      ]
    },
    {
      "cell_type": "code",
      "source": [
        "print(model.intercept_)\n",
        "print(model.coef_)"
      ],
      "metadata": {
        "id": "p4rJ-mnqHIa6",
        "colab": {
          "base_uri": "https://localhost:8080/"
        },
        "outputId": "be1ad524-cc1a-48b6-a3d2-d79c9b6b8d6b"
      },
      "execution_count": 530,
      "outputs": [
        {
          "output_type": "stream",
          "name": "stdout",
          "text": [
            "[-1.13771257]\n",
            "[[ 0.07701318 -0.36302536 -0.18578004  0.04392597 -0.01337253 -0.63031381\n",
            "   1.44102379 -0.36167005 -0.47996744  0.52205792]]\n"
          ]
        }
      ]
    },
    {
      "cell_type": "code",
      "source": [
        "df.columns"
      ],
      "metadata": {
        "colab": {
          "base_uri": "https://localhost:8080/"
        },
        "id": "DP0NUQB28ri9",
        "outputId": "f289ea29-48fe-43ba-b3ed-4f12ffa6ee78"
      },
      "execution_count": 531,
      "outputs": [
        {
          "output_type": "execute_result",
          "data": {
            "text/plain": [
              "Index(['age', 'job', 'marital', 'education_qual', 'call_type', 'day', 'mon',\n",
              "       'dur', 'num_calls', 'prev_outcome', 'y'],\n",
              "      dtype='object')"
            ]
          },
          "metadata": {},
          "execution_count": 531
        }
      ]
    },
    {
      "cell_type": "code",
      "source": [
        "model.predict([[ 0.38757435,  1.09944105, -0.36037255,  0.81277983,  0.5004813 ,\n",
        "        0.22575749, -0.4247379 , -0.70381601,  0.41533437,  0.71290398]])\n"
      ],
      "metadata": {
        "colab": {
          "base_uri": "https://localhost:8080/"
        },
        "id": "AiGA3xd2QCBS",
        "outputId": "db3679c8-eec8-4de9-8119-f7fa4694783c"
      },
      "execution_count": 533,
      "outputs": [
        {
          "output_type": "execute_result",
          "data": {
            "text/plain": [
              "array([0])"
            ]
          },
          "metadata": {},
          "execution_count": 533
        }
      ]
    },
    {
      "cell_type": "code",
      "source": [
        "score=model.score(X_test,y_test)\n",
        "print(score)\n",
        "print(score*100,'%')"
      ],
      "metadata": {
        "id": "iyX9xKLsHIY_",
        "colab": {
          "base_uri": "https://localhost:8080/"
        },
        "outputId": "ac3815e5-20c0-4828-df3a-38418119a0cb"
      },
      "execution_count": 534,
      "outputs": [
        {
          "output_type": "stream",
          "name": "stdout",
          "text": [
            "0.8214391035092893\n",
            "82.14391035092893 %\n"
          ]
        }
      ]
    },
    {
      "cell_type": "code",
      "source": [
        "yhat=model.predict(X_test)\n",
        "yhat"
      ],
      "metadata": {
        "colab": {
          "base_uri": "https://localhost:8080/"
        },
        "id": "PdutlvZyYKyP",
        "outputId": "3fe9a8a9-00e2-4bd5-d7f6-2d960775ec1e"
      },
      "execution_count": 535,
      "outputs": [
        {
          "output_type": "execute_result",
          "data": {
            "text/plain": [
              "array([0, 0, 0, ..., 1, 1, 0])"
            ]
          },
          "metadata": {},
          "execution_count": 535
        }
      ]
    },
    {
      "cell_type": "code",
      "source": [
        "from sklearn.metrics import confusion_matrix, precision_recall_curve, auc, roc_auc_score, roc_curve, recall_score, classification_report,accuracy_score"
      ],
      "metadata": {
        "id": "nJyk-6TmHIWV"
      },
      "execution_count": 536,
      "outputs": []
    },
    {
      "cell_type": "code",
      "source": [
        "confusion_matrix(y_test,yhat)"
      ],
      "metadata": {
        "colab": {
          "base_uri": "https://localhost:8080/"
        },
        "id": "TKZVzG51YLvg",
        "outputId": "6ad5853e-c62f-49a7-8626-565aec3c0766"
      },
      "execution_count": 537,
      "outputs": [
        {
          "output_type": "execute_result",
          "data": {
            "text/plain": [
              "array([[9901, 2107],\n",
              "       [ 315, 1241]])"
            ]
          },
          "metadata": {},
          "execution_count": 537
        }
      ]
    },
    {
      "cell_type": "code",
      "source": [
        "print(classification_report(y_test,yhat))"
      ],
      "metadata": {
        "id": "LhJYsxHTIg2q",
        "colab": {
          "base_uri": "https://localhost:8080/"
        },
        "outputId": "888fd4fc-3c80-4c79-9ef4-2d36e3cf1d2b"
      },
      "execution_count": 538,
      "outputs": [
        {
          "output_type": "stream",
          "name": "stdout",
          "text": [
            "              precision    recall  f1-score   support\n",
            "\n",
            "           0       0.97      0.82      0.89     12008\n",
            "           1       0.37      0.80      0.51      1556\n",
            "\n",
            "    accuracy                           0.82     13564\n",
            "   macro avg       0.67      0.81      0.70     13564\n",
            "weighted avg       0.90      0.82      0.85     13564\n",
            "\n"
          ]
        }
      ]
    },
    {
      "cell_type": "code",
      "source": [
        "print(accuracy_score(y_test,yhat))"
      ],
      "metadata": {
        "colab": {
          "base_uri": "https://localhost:8080/"
        },
        "id": "PayFt2bOXBKb",
        "outputId": "21bf3995-46f6-46b6-c4f5-730436944bd4"
      },
      "execution_count": 539,
      "outputs": [
        {
          "output_type": "stream",
          "name": "stdout",
          "text": [
            "0.8214391035092893\n"
          ]
        }
      ]
    },
    {
      "cell_type": "code",
      "source": [
        "roc_auc_score(y_test, yhat, average=None)"
      ],
      "metadata": {
        "colab": {
          "base_uri": "https://localhost:8080/"
        },
        "id": "-r44zhmvLyjS",
        "outputId": "ec5f9132-1994-4fdd-d29f-4e34dc218196"
      },
      "execution_count": 540,
      "outputs": [
        {
          "output_type": "execute_result",
          "data": {
            "text/plain": [
              "0.811045742427071"
            ]
          },
          "metadata": {},
          "execution_count": 540
        }
      ]
    },
    {
      "cell_type": "code",
      "source": [],
      "metadata": {
        "id": "a_iqIzY4ZXwj"
      },
      "execution_count": null,
      "outputs": []
    },
    {
      "cell_type": "markdown",
      "source": [
        "KNN Classifier Model"
      ],
      "metadata": {
        "id": "g_rBXCNeZZag"
      }
    },
    {
      "cell_type": "code",
      "source": [
        "from sklearn.neighbors import KNeighborsClassifier\n",
        "from sklearn import metrics\n",
        "import numpy as np\n",
        "k=10\n",
        "mean_acc=np.zeros((k-1))\n",
        "std_acc=np.zeros((k-1))\n",
        "ConfustionMx = [];\n",
        "for n in range(1,k):\n",
        "  neigh=KNeighborsClassifier(n_neighbors=n,).fit(X_train_res,y_train_res)\n",
        "  yhat=neigh.predict(X_test)\n",
        "  mean_acc[n-1]=metrics.accuracy_score(y_test,yhat)\n",
        "  std_acc[n-1]=np.std(yhat==y_test)/np.sqrt(yhat.shape[0])\n",
        "print(mean_acc)\n",
        "print(std_acc)  \n",
        "print()\n",
        "score=model.score(X_test,y_test)\n",
        "print(score)\n",
        "print(score*100,'%')\n",
        "print( \"The best accuracy was with\", mean_acc.max(), \"with k=\", mean_acc.argmax()+1)\n",
        "print()\n",
        "print('Confusion Matrix: \\n',confusion_matrix(y_test,yhat))\n",
        "print()\n",
        "print('classification_report :\\n',classification_report(y_test,yhat))\n",
        "print()\n",
        "print('ROC_ AUC_ Score: ',roc_auc_score(y_test, yhat, average=None))"
      ],
      "metadata": {
        "colab": {
          "base_uri": "https://localhost:8080/"
        },
        "id": "OqseGcnZV5Yq",
        "outputId": "414635e8-f744-434d-c70a-a06ead27f5ad"
      },
      "execution_count": 541,
      "outputs": [
        {
          "output_type": "stream",
          "name": "stdout",
          "text": [
            "[0.8643468  0.87135063 0.85056031 0.85749042 0.83846948 0.84569449\n",
            " 0.83153937 0.84031259 0.82991743]\n",
            "[0.00294012 0.00287479 0.0030612  0.00300153 0.00315993 0.00310173\n",
            " 0.00321364 0.0031453  0.00322592]\n",
            "\n",
            "0.8214391035092893\n",
            "82.14391035092893 %\n",
            "The best accuracy was with 0.8713506340312592 with k= 2\n",
            "\n",
            "Confusion Matrix: \n",
            " [[10052  1956]\n",
            " [  351  1205]]\n",
            "\n",
            "classification_report :\n",
            "               precision    recall  f1-score   support\n",
            "\n",
            "           0       0.97      0.84      0.90     12008\n",
            "           1       0.38      0.77      0.51      1556\n",
            "\n",
            "    accuracy                           0.83     13564\n",
            "   macro avg       0.67      0.81      0.70     13564\n",
            "weighted avg       0.90      0.83      0.85     13564\n",
            "\n",
            "\n",
            "ROC_ AUC_ Score:  0.8057650940504102\n"
          ]
        }
      ]
    },
    {
      "cell_type": "code",
      "source": [
        "import matplotlib.pyplot as plt\n",
        "\n",
        "plt.plot(range(1,k),mean_acc,'g')\n",
        "plt.fill_between(range(1,k),mean_acc - 1 * std_acc,mean_acc + 1 * std_acc, alpha=0.10)\n",
        "plt.legend(('Accuracy ', '+/- 3xstd'))\n",
        "plt.ylabel('Accuracy ')\n",
        "plt.xlabel('Number of Nabors (K)')\n",
        "plt.tight_layout()\n",
        "plt.show()\n",
        "\n",
        "\n"
      ],
      "metadata": {
        "colab": {
          "base_uri": "https://localhost:8080/",
          "height": 297
        },
        "id": "jz_SBPHpXTjd",
        "outputId": "0cc00552-353a-4865-c3f9-ead47022906d"
      },
      "execution_count": 542,
      "outputs": [
        {
          "output_type": "display_data",
          "data": {
            "text/plain": [
              "<Figure size 432x288 with 1 Axes>"
            ],
            "image/png": "[encoded data removed]"
          },
          "metadata": {
            "needs_background": "light"
          }
        }
      ]
    },
    {
      "cell_type": "code",
      "source": [
        "from sklearn.neighbors import KNeighborsClassifier\n",
        "from sklearn import metrics\n",
        "import numpy as np\n",
        "k=10\n",
        "\n",
        "neigh=KNeighborsClassifier(n_neighbors=100,weights='uniform',algorithm='auto', p = 2,metric='euclidean').fit(X_train_res,y_train_res)\n",
        "yhat=neigh.predict(X_test)\n",
        "\n",
        "print()\n",
        "score=model.score(X_test,y_test)\n",
        "print(score)\n",
        "print(score*100,'%')\n",
        "\n",
        "print()\n",
        "print('Confusion Matrix: \\n',confusion_matrix(y_test,yhat))\n",
        "print()\n",
        "print('classification_report :\\n',classification_report(y_test,yhat))\n",
        "print()\n",
        "print('ROC_ AUC_ Score: ',roc_auc_score(y_test, yhat, average=None))"
      ],
      "metadata": {
        "colab": {
          "base_uri": "https://localhost:8080/"
        },
        "id": "UyZW93FBRQVT",
        "outputId": "0a38f92e-dbf6-40f1-ed27-8d518d054ebc"
      },
      "execution_count": 543,
      "outputs": [
        {
          "output_type": "stream",
          "name": "stdout",
          "text": [
            "\n",
            "0.8214391035092893\n",
            "82.14391035092893 %\n",
            "\n",
            "Confusion Matrix: \n",
            " [[9701 2307]\n",
            " [ 240 1316]]\n",
            "\n",
            "classification_report :\n",
            "               precision    recall  f1-score   support\n",
            "\n",
            "           0       0.98      0.81      0.88     12008\n",
            "           1       0.36      0.85      0.51      1556\n",
            "\n",
            "    accuracy                           0.81     13564\n",
            "   macro avg       0.67      0.83      0.70     13564\n",
            "weighted avg       0.91      0.81      0.84     13564\n",
            "\n",
            "\n",
            "ROC_ AUC_ Score:  0.8268182180174657\n"
          ]
        }
      ]
    },
    {
      "cell_type": "markdown",
      "source": [
        "SVM"
      ],
      "metadata": {
        "id": "OyEVdaptcXs6"
      }
    },
    {
      "cell_type": "code",
      "source": [
        "from sklearn import svm\n",
        "import itertools\n",
        "clf = svm.SVC(kernel='rbf')\n",
        "clf.fit(X_train_res, y_train_res)\n",
        "yhat = clf.predict(X_test)\n",
        "# yhat[:5]\n",
        "\n",
        "# clf.score(X_test, y_test)\n",
        "# y_pred = clf.predict(X_test)\n",
        "print('Confusion Matrix: \\n',confusion_matrix(y_test,yhat))\n",
        "print()\n",
        "print('classification_report :\\n',classification_report(y_test,yhat))\n",
        "print()\n",
        "print('ROC_ AUC_ Score: ',roc_auc_score(y_test, yhat, average=None))"
      ],
      "metadata": {
        "colab": {
          "base_uri": "https://localhost:8080/"
        },
        "id": "7YfDB4YQZfoD",
        "outputId": "730a6f93-46e7-4cad-c1e8-1a70af7cbe9c"
      },
      "execution_count": 544,
      "outputs": [
        {
          "output_type": "stream",
          "name": "stdout",
          "text": [
            "Confusion Matrix: \n",
            " [[9784 2224]\n",
            " [ 210 1346]]\n",
            "\n",
            "classification_report :\n",
            "               precision    recall  f1-score   support\n",
            "\n",
            "           0       0.98      0.81      0.89     12008\n",
            "           1       0.38      0.87      0.53      1556\n",
            "\n",
            "    accuracy                           0.82     13564\n",
            "   macro avg       0.68      0.84      0.71     13564\n",
            "weighted avg       0.91      0.82      0.85     13564\n",
            "\n",
            "\n",
            "ROC_ AUC_ Score:  0.8399143501590199\n"
          ]
        }
      ]
    },
    {
      "cell_type": "code",
      "source": [
        "from sklearn.tree import DecisionTreeClassifier\n",
        "model= DecisionTreeClassifier(criterion=\"gini\",splitter='best',max_depth=8)\n",
        "model.fit(X_train_res, y_train_res)\n",
        "\n",
        "yhat = model.predict(X_test)\n",
        "# yhat[:5]\n",
        "\n",
        "# clf.score(X_test, y_test)\n",
        "# y_pred = clf.predict(X_test)\n",
        "\n",
        "print('Confusion Matrix: \\n',confusion_matrix(y_test,yhat))\n",
        "print()\n",
        "print('classification_report :\\n',classification_report(y_test,yhat))\n",
        "print()\n",
        "print('ROC_ AUC_ Score: ',roc_auc_score(y_test, yhat, average=None))"
      ],
      "metadata": {
        "id": "SXULS_b8dHWx",
        "colab": {
          "base_uri": "https://localhost:8080/"
        },
        "outputId": "b9b1ae45-d751-43f8-cfca-f273d79e9d40"
      },
      "execution_count": 545,
      "outputs": [
        {
          "output_type": "stream",
          "name": "stdout",
          "text": [
            "Confusion Matrix: \n",
            " [[10213  1795]\n",
            " [  353  1203]]\n",
            "\n",
            "classification_report :\n",
            "               precision    recall  f1-score   support\n",
            "\n",
            "           0       0.97      0.85      0.90     12008\n",
            "           1       0.40      0.77      0.53      1556\n",
            "\n",
            "    accuracy                           0.84     13564\n",
            "   macro avg       0.68      0.81      0.72     13564\n",
            "weighted avg       0.90      0.84      0.86     13564\n",
            "\n",
            "\n",
            "ROC_ AUC_ Score:  0.8118262846191656\n"
          ]
        }
      ]
    },
    {
      "cell_type": "markdown",
      "source": [
        "Random forest classifier"
      ],
      "metadata": {
        "id": "oi729lVL7Xu1"
      }
    },
    {
      "cell_type": "code",
      "source": [
        "from sklearn.ensemble import RandomForestClassifier\n",
        "\n",
        "model=RandomForestClassifier(n_estimators= 150, criterion=\"gini\",max_depth=7,max_features='auto')  \n",
        "model.fit(X_train_res, y_train_res)\n",
        "\n",
        "yhat = model.predict(X_test)\n",
        "\n",
        "print('Confusion Matrix: \\n',confusion_matrix(y_test,yhat))\n",
        "print()\n",
        "print('classification_report :\\n',classification_report(y_test,yhat))\n",
        "print()\n",
        "print('ROC_ AUC_ Score: ',roc_auc_score(y_test, yhat, average=None))"
      ],
      "metadata": {
        "id": "g-O3l6ciBu69",
        "colab": {
          "base_uri": "https://localhost:8080/"
        },
        "outputId": "fe7cb0e1-165a-4a3d-e298-dc5dca7f8fb5"
      },
      "execution_count": 546,
      "outputs": [
        {
          "output_type": "stream",
          "name": "stdout",
          "text": [
            "Confusion Matrix: \n",
            " [[10179  1829]\n",
            " [  303  1253]]\n",
            "\n",
            "classification_report :\n",
            "               precision    recall  f1-score   support\n",
            "\n",
            "           0       0.97      0.85      0.91     12008\n",
            "           1       0.41      0.81      0.54      1556\n",
            "\n",
            "    accuracy                           0.84     13564\n",
            "   macro avg       0.69      0.83      0.72     13564\n",
            "weighted avg       0.91      0.84      0.86     13564\n",
            "\n",
            "\n",
            "ROC_ AUC_ Score:  0.8264773998140057\n"
          ]
        }
      ]
    },
    {
      "cell_type": "code",
      "source": [],
      "metadata": {
        "id": "Q15NgL06-Pbk"
      },
      "execution_count": null,
      "outputs": []
    },
    {
      "cell_type": "code",
      "source": [
        "from sklearn.naive_bayes import GaussianNB  \n",
        "classifier = GaussianNB()  \n",
        "classifier.fit(X_train_res, y_train_res)  \n",
        "\n",
        "y_pred = classifier.predict(X_test)  \n",
        "print('Confusion Matrix: \\n',confusion_matrix(y_test,yhat))\n",
        "print()\n",
        "print('classification_report :\\n',classification_report(y_test,yhat))\n",
        "print()\n",
        "print('ROC_ AUC_ Score: ',roc_auc_score(y_test, yhat, average=None))"
      ],
      "metadata": {
        "colab": {
          "base_uri": "https://localhost:8080/"
        },
        "id": "P3QGDT1Vcrp5",
        "outputId": "2242bd8a-3eef-449f-9b16-4080403cdee5"
      },
      "execution_count": 547,
      "outputs": [
        {
          "output_type": "stream",
          "name": "stdout",
          "text": [
            "Confusion Matrix: \n",
            " [[10179  1829]\n",
            " [  303  1253]]\n",
            "\n",
            "classification_report :\n",
            "               precision    recall  f1-score   support\n",
            "\n",
            "           0       0.97      0.85      0.91     12008\n",
            "           1       0.41      0.81      0.54      1556\n",
            "\n",
            "    accuracy                           0.84     13564\n",
            "   macro avg       0.69      0.83      0.72     13564\n",
            "weighted avg       0.91      0.84      0.86     13564\n",
            "\n",
            "\n",
            "ROC_ AUC_ Score:  0.8264773998140057\n"
          ]
        }
      ]
    },
    {
      "cell_type": "code",
      "source": [],
      "metadata": {
        "id": "3EdsvdIPcym4"
      },
      "execution_count": null,
      "outputs": []
    },
    {
      "cell_type": "code",
      "source": [
        "import xgboost as xgb\n",
        "x=[0.1,0.2,0.3,0.4,0.5,0.6,0.7,0.8,0.9,0.10,0.11,0.12,0.13,0.14,0.15,0.16,0.17,0.18,0.19,0.20,0.21,0.22,0.23,0.24,0.25,0.26,0.27,0.28,0.29,0.30,0.75,1]\n",
        "\n",
        "xg=xgb.XGBClassifier(learning_rate=0.1,n_estimators=19,verbosity=0,max_depth=8)\n",
        "xg.fit(X_train_res,y_train_res)\n",
        "  \n",
        "xg.score(X_test,y_test)\n",
        "yhat=xg.predict(X_test)\n",
        "print('Confusion Matrix: \\n',confusion_matrix(y_test,yhat))\n",
        "print()\n",
        "print('classification_report :\\n',classification_report(y_test,yhat))\n",
        "print()\n",
        "print('ROC_ AUC_ Score: ',roc_auc_score(y_test, yhat, average=None))"
      ],
      "metadata": {
        "colab": {
          "base_uri": "https://localhost:8080/"
        },
        "id": "iQdPEsHyDa6b",
        "outputId": "d9912652-e4ef-4209-ebf1-e121c8fa19b1"
      },
      "execution_count": 561,
      "outputs": [
        {
          "output_type": "stream",
          "name": "stdout",
          "text": [
            "Confusion Matrix: \n",
            " [[10516  1492]\n",
            " [  322  1234]]\n",
            "\n",
            "classification_report :\n",
            "               precision    recall  f1-score   support\n",
            "\n",
            "           0       0.97      0.88      0.92     12008\n",
            "           1       0.45      0.79      0.58      1556\n",
            "\n",
            "    accuracy                           0.87     13564\n",
            "   macro avg       0.71      0.83      0.75     13564\n",
            "weighted avg       0.91      0.87      0.88     13564\n",
            "\n",
            "\n",
            "ROC_ AUC_ Score:  0.8344043131485608\n"
          ]
        }
      ]
    },
    {
      "cell_type": "code",
      "source": [
        "from xgboost import plot_importance\n",
        "import matplotlib.pyplot as plt\n",
        "\n",
        "# plot feature importance\n",
        "plot_importance(xg)\n",
        ".show()"
      ],
      "metadata": {
        "colab": {
          "base_uri": "https://localhost:8080/",
          "height": 295
        },
        "id": "tPTjrUah6380",
        "outputId": "1b141518-5224-4618-d783-5777f827a321"
      },
      "execution_count": 346,
      "outputs": [
        {
          "output_type": "display_data",
          "data": {
            "text/plain": [
              "<Figure size 432x288 with 1 Axes>"
            ],
            "image/png": "[encoded data removed]"
          },
          "metadata": {
            "needs_background": "light"
          }
        }
      ]
    },
    {
      "cell_type": "code",
      "source": [],
      "metadata": {
        "id": "pe9VBb7f85c7"
      },
      "execution_count": null,
      "outputs": []
    }
  ]
}